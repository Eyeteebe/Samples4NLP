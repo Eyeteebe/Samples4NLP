{
  "nbformat": 4,
  "nbformat_minor": 0,
  "metadata": {
    "colab": {
      "name": "btan4740_COMP5046_Ass1.ipynb",
      "provenance": [],
      "collapsed_sections": []
    },
    "kernelspec": {
      "name": "python3",
      "display_name": "Python 3"
    },
    "accelerator": "GPU"
  },
  "cells": [
    {
      "cell_type": "markdown",
      "metadata": {
        "id": "34DVNKgqQY21",
        "colab_type": "text"
      },
      "source": [
        "# 1 - Data Preprocessing"
      ]
    },
    {
      "cell_type": "markdown",
      "metadata": {
        "id": "7cWUxAQrGlq6",
        "colab_type": "text"
      },
      "source": [
        "## 1.1. Download Dataset"
      ]
    },
    {
      "cell_type": "code",
      "metadata": {
        "id": "U7C4snIcNl22",
        "colab_type": "code",
        "outputId": "e88e3f9b-c256-42a0-f38e-a2048202b5c5",
        "colab": {
          "base_uri": "https://localhost:8080/",
          "height": 53
        }
      },
      "source": [
        "# Code to download file into Colaboratory:\n",
        "!pip install -U -q PyDrive\n",
        "from pydrive.auth import GoogleAuth\n",
        "from pydrive.drive import GoogleDrive\n",
        "from google.colab import auth\n",
        "from oauth2client.client import GoogleCredentials\n",
        "# Authenticate and create the PyDrive client.\n",
        "auth.authenticate_user()\n",
        "gauth = GoogleAuth()\n",
        "gauth.credentials = GoogleCredentials.get_application_default()\n",
        "drive = GoogleDrive(gauth)\n",
        "\n",
        "id = '1vF3FqgBC1Y-RPefeVmY8zetdZG1jmHzT'\n",
        "downloaded = drive.CreateFile({'id':id}) \n",
        "downloaded.GetContentFile('imdb_train.csv')\n",
        "\n",
        "id = '1XhaV8YMuQeSwozQww8PeyiWMJfia13G6'\n",
        "downloaded = drive.CreateFile({'id':id}) \n",
        "downloaded.GetContentFile('imdb_test.csv')\n",
        "\n",
        "import pandas as pd\n",
        "df_train = pd.read_csv(\"imdb_train.csv\")\n",
        "df_test = pd.read_csv(\"imdb_test.csv\")\n",
        "\n",
        "reviews_train = df_train['review'].tolist()\n",
        "sentiments_train = df_train['sentiment'].tolist()\n",
        "reviews_test = df_test['review'].tolist()\n",
        "sentiments_test = df_test['sentiment'].tolist()\n",
        "\n",
        "print(\"Training set number:\",len(reviews_train))\n",
        "print(\"Testing set number:\",len(reviews_test))"
      ],
      "execution_count": 0,
      "outputs": [
        {
          "output_type": "stream",
          "text": [
            "Training set number: 25000\n",
            "Testing set number: 25000\n"
          ],
          "name": "stdout"
        }
      ]
    },
    {
      "cell_type": "markdown",
      "metadata": {
        "id": "l9gBSgBCQh24",
        "colab_type": "text"
      },
      "source": [
        "## 1.2. Preprocess data"
      ]
    },
    {
      "cell_type": "markdown",
      "metadata": {
        "id": "8RdKI8E2KRwe",
        "colab_type": "text"
      },
      "source": [
        "To preprocess data, regrex expression is used for remove tags such as '\\<br />', etc. Besides, all characters are changed to their lower case which can reduce the repeatness of vocabulary. For tags including 'pos' and 'neg', the label encoder transforms them into 0 and 1. 0 and 1 make the correctness can be easily computed. "
      ]
    },
    {
      "cell_type": "code",
      "metadata": {
        "id": "emyl1lWxGr12",
        "colab_type": "code",
        "colab": {}
      },
      "source": [
        "import re\n",
        "\n",
        "# remove tags such as '<br />' using regular expression\n",
        "reg1 = re.compile(\"[.;:!\\'?,\\\"()\\[\\]]\")\n",
        "reg2 = re.compile(\"(<br\\s*/><br\\s*/>)|(\\-)|(\\/)\")\n",
        "\n",
        "def clean_reviews(reviews):\n",
        "  # reduce all letters to lower case\n",
        "  reviews = [reg1.sub(\"\", line.lower()) for line in reviews]\n",
        "  reviews = [reg2.sub(\" \", line) for line in reviews]\n",
        "  return reviews\n",
        "\n",
        "reviews_train_clean = clean_reviews(reviews_train)\n",
        "reviews_test_clean = clean_reviews(reviews_test)"
      ],
      "execution_count": 0,
      "outputs": []
    },
    {
      "cell_type": "code",
      "metadata": {
        "id": "Q_6BHbdxtxTo",
        "colab_type": "code",
        "outputId": "8ba13b6d-6e04-4288-a5b3-0f2ffb427005",
        "colab": {
          "base_uri": "https://localhost:8080/",
          "height": 55
        }
      },
      "source": [
        "print(reviews_train_clean[0])"
      ],
      "execution_count": 0,
      "outputs": [
        {
          "output_type": "stream",
          "text": [
            "i enjoyed this movie havent seen andy griffith in ages and felt he fit this role perfectly ive associated him with comedy but am pleased to see that hes versatile i wasnt troubled that dottys anxiety disorder may not have been verbatim from a psychiatric textbook there are zillions of whatever phobias and neuroses and these can take on a broad variety of quantitative and qualitative forms she is clearly a sensitive with extra sensory powers as was understood by the local indians but not by any anglos it is not surprising that this character is vulnerable and nominally eccentric although this is taken to be a light family movie it is actually more sophisticated than it seems also hirams twist at the end came as a pleasant surprise to me and tied all the preceding action together in a bundle its fun to contemplate the possibility of such spiritual guidance\n"
          ],
          "name": "stdout"
        }
      ]
    },
    {
      "cell_type": "code",
      "metadata": {
        "id": "aDM8vrkhPiCI",
        "colab_type": "code",
        "outputId": "19c8205b-5f8f-4fce-aefe-bf2216f88510",
        "colab": {
          "base_uri": "https://localhost:8080/",
          "height": 35
        }
      },
      "source": [
        "from sklearn import preprocessing\n",
        "\n",
        "label_encoder = preprocessing.LabelEncoder()\n",
        "label_encoder.fit(sentiments_train+sentiments_test)\n",
        "print(label_encoder.classes_)\n",
        "\n",
        "labels_train = label_encoder.transform(sentiments_train)\n",
        "labels_test = label_encoder.transform(sentiments_test)"
      ],
      "execution_count": 0,
      "outputs": [
        {
          "output_type": "stream",
          "text": [
            "['neg' 'pos']\n"
          ],
          "name": "stdout"
        }
      ]
    },
    {
      "cell_type": "code",
      "metadata": {
        "id": "fpDUb3K_Qj-u",
        "colab_type": "code",
        "outputId": "4cfeee0f-d291-4edf-ccd6-d2100ea9e93e",
        "colab": {
          "base_uri": "https://localhost:8080/",
          "height": 53
        }
      },
      "source": [
        "print(sentiments_train[:8])\n",
        "print(labels_train[:8])"
      ],
      "execution_count": 0,
      "outputs": [
        {
          "output_type": "stream",
          "text": [
            "['pos', 'pos', 'pos', 'neg', 'neg', 'neg', 'pos', 'pos']\n",
            "[1 1 1 0 0 0 1 1]\n"
          ],
          "name": "stdout"
        }
      ]
    },
    {
      "cell_type": "code",
      "metadata": {
        "id": "Ctz2aYEeRRUn",
        "colab_type": "code",
        "outputId": "2b7356a1-ebb1-49a7-fc9c-7fb82990848a",
        "colab": {
          "base_uri": "https://localhost:8080/",
          "height": 35
        }
      },
      "source": [
        "label_dict = {0: 'neg', 1: 'pos'}\n",
        "print(label_dict[0], label_dict[1])"
      ],
      "execution_count": 0,
      "outputs": [
        {
          "output_type": "stream",
          "text": [
            "neg pos\n"
          ],
          "name": "stdout"
        }
      ]
    },
    {
      "cell_type": "markdown",
      "metadata": {
        "id": "LIu_lkJwQ55g",
        "colab_type": "text"
      },
      "source": [
        "# 2 - Model Implementation"
      ]
    },
    {
      "cell_type": "markdown",
      "metadata": {
        "id": "daDvAftceIvr",
        "colab_type": "text"
      },
      "source": [
        "## 2.1. Word Embeddings"
      ]
    },
    {
      "cell_type": "markdown",
      "metadata": {
        "id": "lbzm-NWBTmM-",
        "colab_type": "text"
      },
      "source": [
        "For word embeddings, word2vec with CBOW is implemented. One main reason to choose word2vec-CBOW is that it uses 'sum' on the results of embedding outputs, which would make it faster than skip-gram. Skip-gram may work better on some uncommon words, but the GPU resource is limited on Colab, saving time is significant."
      ]
    },
    {
      "cell_type": "markdown",
      "metadata": {
        "id": "GXgFpxIgl-_G",
        "colab_type": "text"
      },
      "source": [
        "### 2.1.1. Data Preprocessing for Word Embeddings"
      ]
    },
    {
      "cell_type": "markdown",
      "metadata": {
        "id": "qJrVHGYSmYMg",
        "colab_type": "text"
      },
      "source": [
        "The techniques used on data preprocessing for word embeddings are tokenization, removing common stop words and punctuations. These techniques split the review into single words and make the vocabulary size smaller, which can save some time. In the mean time, a word list and a word-to-number dictionary are made for word embeding. Additionally, one-hot encoding would be excuted within the `nn.Embedding`. "
      ]
    },
    {
      "cell_type": "markdown",
      "metadata": {
        "id": "H36Z423ijv8N",
        "colab_type": "text"
      },
      "source": [
        "Both the training set and testing set are implemented to this model. In this case, the vocabulary becomes slightly lager and the size of data for model training is nearly doubled."
      ]
    },
    {
      "cell_type": "code",
      "metadata": {
        "id": "3LByzHLiNinu",
        "colab_type": "code",
        "outputId": "fcc8ac9c-0b8d-48bf-d79b-18e315ce0d40",
        "colab": {
          "base_uri": "https://localhost:8080/",
          "height": 89
        }
      },
      "source": [
        "import nltk\n",
        "from nltk.tokenize import word_tokenize\n",
        "nltk.download('punkt')\n",
        "nltk.download('stopwords')\n",
        "\n",
        "from nltk.corpus import stopwords as sw"
      ],
      "execution_count": 0,
      "outputs": [
        {
          "output_type": "stream",
          "text": [
            "[nltk_data] Downloading package punkt to /root/nltk_data...\n",
            "[nltk_data]   Unzipping tokenizers/punkt.zip.\n",
            "[nltk_data] Downloading package stopwords to /root/nltk_data...\n",
            "[nltk_data]   Unzipping corpora/stopwords.zip.\n"
          ],
          "name": "stdout"
        }
      ]
    },
    {
      "cell_type": "code",
      "metadata": {
        "id": "ihpV_jMb3w1w",
        "colab_type": "code",
        "colab": {}
      },
      "source": [
        "stop_words = set(sw.words('english'))\n",
        "\n",
        "def tokenizer(review):\n",
        "    review = word_tokenize(review)\n",
        "    line = []\n",
        "    for word in review:\n",
        "        if word.isalpha() and word not in stop_words:\n",
        "            line.append(word)\n",
        "    \n",
        "    return line\n",
        "\n",
        "tokens_train = [tokenizer(w) for w in reviews_train_clean]\n",
        "tokens_test = [tokenizer(w) for w in reviews_test_clean]"
      ],
      "execution_count": 0,
      "outputs": []
    },
    {
      "cell_type": "code",
      "metadata": {
        "id": "WAYOFQD80LlU",
        "colab_type": "code",
        "colab": {}
      },
      "source": [
        "# make the word list\n",
        "word_list = []\n",
        "for tokens in tokens_train+tokens_test:\n",
        "    word_list += [w for w in tokens]\n",
        "\n",
        "# make a list of unique words\n",
        "word_list = list(set(word_list))\n",
        "word_list.sort() # avoid randomness\n",
        "\n",
        "# make a word to number dictionary\n",
        "voc_size = len(word_list)\n",
        "word_dict = {w: i for i, w in enumerate(word_list)}"
      ],
      "execution_count": 0,
      "outputs": []
    },
    {
      "cell_type": "code",
      "metadata": {
        "id": "3Yl9y_e24Nj6",
        "colab_type": "code",
        "colab": {}
      },
      "source": [
        "# Make cbow\n",
        "window_size = 4 # set window size, 5 would be better but 4 already took a whole night to run\n",
        "def make_cbow(dataset):\n",
        "  cbow = []\n",
        "  for review in dataset:\n",
        "    for i in range(window_size, len(review)-window_size-1):\n",
        "      target = word_dict[review[i]]\n",
        "      context = review[i-window_size:i] + review[i+1:i+1+window_size]\n",
        "      context = [word_dict[w] for w in context]\n",
        "      cbow.append([context, target])\n",
        "  \n",
        "  return(cbow)"
      ],
      "execution_count": 0,
      "outputs": []
    },
    {
      "cell_type": "code",
      "metadata": {
        "id": "WUmRlgNcXU3O",
        "colab_type": "code",
        "outputId": "7d2467c8-4d5e-4a37-9141-cf8a8fe7c219",
        "colab": {
          "base_uri": "https://localhost:8080/",
          "height": 73
        }
      },
      "source": [
        "cbow_set = make_cbow(tokens_train+tokens_test)\n",
        "print(cbow_set[:8])\n",
        "print(len(cbow_set))"
      ],
      "execution_count": 0,
      "outputs": [
        {
          "output_type": "stream",
          "text": [
            "[[[36244, 76130, 50913, 101512, 48419, 2007, 40268, 41548], 4155], [[76130, 50913, 101512, 4155, 2007, 40268, 41548, 97213], 48419], [[50913, 101512, 4155, 48419, 40268, 41548, 97213, 85759], 2007], [[101512, 4155, 48419, 2007, 41548, 97213, 85759, 58916], 40268], [[4155, 48419, 2007, 40268, 97213, 85759, 58916, 6459], 41548], [[48419, 2007, 40268, 41548, 85759, 58916, 6459, 22115], 97213], [[2007, 40268, 41548, 97213, 58916, 6459, 22115, 87736], 85759], [[40268, 41548, 97213, 85759, 6459, 22115, 87736, 101437], 58916]]\n",
            "5559092\n"
          ],
          "name": "stdout"
        }
      ]
    },
    {
      "cell_type": "markdown",
      "metadata": {
        "id": "qhAgWf_AmbZ8",
        "colab_type": "text"
      },
      "source": [
        "### 2.1.2. Build Word Embeddings Model"
      ]
    },
    {
      "cell_type": "markdown",
      "metadata": {
        "id": "AJ8rU7JbiBVS",
        "colab_type": "text"
      },
      "source": [
        "The dimentions of word embedding is set to 256, which is slightly smaller than sqrt(voc_size). To reduce the running time and make the best use of every data, the model would iterate through all the data for 1 run. Also, a smaller learning rate may reduce the final loss but the learning rate is set to 0.01 which may fit the data a bit faster than a smaller learning rate."
      ]
    },
    {
      "cell_type": "code",
      "metadata": {
        "id": "ftE4Uu1FlIE8",
        "colab_type": "code",
        "colab": {}
      },
      "source": [
        "import torch\n",
        "device = torch.device(\"cuda\" if torch.cuda.is_available() else \"cpu\")"
      ],
      "execution_count": 0,
      "outputs": []
    },
    {
      "cell_type": "code",
      "metadata": {
        "id": "TVPuwWgvNjOU",
        "colab_type": "code",
        "colab": {}
      },
      "source": [
        "learning_rate = 0.01 # could be a bit smaller\n",
        "embedding_dim = 256\n",
        "no_of_epochs = len(cbow_set)"
      ],
      "execution_count": 0,
      "outputs": []
    },
    {
      "cell_type": "code",
      "metadata": {
        "id": "hVPue28ykptN",
        "colab_type": "code",
        "colab": {}
      },
      "source": [
        "from torch.autograd import Variable\n",
        "import torch.nn as nn\n",
        "import torch.nn.functional as F\n",
        "from sklearn.metrics import accuracy_score\n",
        "import torch.optim as optim\n",
        "import numpy as np\n",
        "import torch.cuda\n",
        "\n",
        "class CBOW(nn.Module):\n",
        "  def __init__(self, voc_size, embedding_dim):\n",
        "    super(CBOW, self).__init__()\n",
        "    # embedding layer\n",
        "    self.embeddings = nn.Embedding(voc_size, embedding_dim)\n",
        "    # 2 linear layers\n",
        "    self.linear1 = nn.Linear(embedding_dim, voc_size//embedding_dim)\n",
        "    self.linear2 = nn.Linear(voc_size//embedding_dim, voc_size)\n",
        "\n",
        "  def forward(self, x):\n",
        "    embeds = sum(self.embeddings(x)).view(1,-1) # sum the embeds\n",
        "    x = self.linear1(embeds)\n",
        "    # use relu and log_softmax to normalize the outputs of 2 linear layer2\n",
        "    x = F.relu(x)\n",
        "    x = self.linear2(x)\n",
        "    output = F.log_softmax(x, dim=1) # ouput is a series of probility of each word\n",
        "    return output"
      ],
      "execution_count": 0,
      "outputs": []
    },
    {
      "cell_type": "markdown",
      "metadata": {
        "id": "LNys5HOdISK-",
        "colab_type": "text"
      },
      "source": [
        "### 2.1.3. Train Word Embeddings Model"
      ]
    },
    {
      "cell_type": "code",
      "metadata": {
        "id": "AYVXZAgnoS2x",
        "colab_type": "code",
        "colab": {}
      },
      "source": [
        "from google.colab import drive\n",
        "drive.mount('/content/drive')\n",
        "\n",
        "PATH = './drive/My Drive/btan4740_word.pt'"
      ],
      "execution_count": 0,
      "outputs": []
    },
    {
      "cell_type": "code",
      "metadata": {
        "id": "j4bB79LPk9Vn",
        "colab_type": "code",
        "colab": {}
      },
      "source": [
        "cbow_model = CBOW(voc_size=voc_size+1, embedding_dim=embedding_dim).to(device)\n",
        "criterion = nn.NLLLoss()\n",
        "optimiser = optim.SGD(cbow_model.parameters(), lr=learning_rate)"
      ],
      "execution_count": 0,
      "outputs": []
    },
    {
      "cell_type": "code",
      "metadata": {
        "id": "Ae8i7Z2kIef-",
        "colab_type": "code",
        "outputId": "0f29edee-bf8f-49a3-b03f-b0a5dd8dce65",
        "colab": {
          "base_uri": "https://localhost:8080/",
          "height": 469
        }
      },
      "source": [
        "total_loss = 0\n",
        "for epoch in range(0, no_of_epochs): # iterate through all the data, more runs could be better but more time it does require\n",
        "  inputs_torch = torch.LongTensor(cbow_set[epoch][0]).to(device)\n",
        "  label_torch = torch.LongTensor([cbow_set[epoch][1]]).to(device)\n",
        "\n",
        "  cbow_model.train()\n",
        "\n",
        "  optimiser.zero_grad()\n",
        "\n",
        "  output = cbow_model(inputs_torch)\n",
        "\n",
        "  #print(output)\n",
        "  #print(label_torch)\n",
        "  loss = criterion(output, label_torch)\n",
        "  total_loss += loss.item()\n",
        "\n",
        "  loss.backward()\n",
        "  optimiser.step()\n",
        "\n",
        "  if epoch % 250000  == 249999: \n",
        "      print('Epoch: %d, loss: %.4f' %(epoch + 1, total_loss/250000))\n",
        "      total_loss = 0\n",
        "      torch.save(cbow_model, PATH)\n",
        "\n",
        "print('Epoch: %d, loss: %.4f' %(epoch + 1, loss))\n",
        "print('training finished')"
      ],
      "execution_count": 0,
      "outputs": [
        {
          "output_type": "stream",
          "text": [
            "Epoch: 750000, loss: 9.0099\n"
          ],
          "name": "stdout"
        },
        {
          "output_type": "stream",
          "text": [
            "/usr/local/lib/python3.6/dist-packages/torch/serialization.py:360: UserWarning: Couldn't retrieve source code for container of type CBOW. It won't be checked for correctness upon loading.\n",
            "  \"type \" + obj.__name__ + \". It won't be checked \"\n"
          ],
          "name": "stderr"
        },
        {
          "output_type": "stream",
          "text": [
            "Epoch: 1000000, loss: 9.0541\n",
            "Epoch: 1250000, loss: 9.0165\n",
            "Epoch: 1500000, loss: 8.9920\n",
            "Epoch: 1750000, loss: 8.9760\n",
            "Epoch: 2000000, loss: 8.9545\n",
            "Epoch: 2250000, loss: 8.9169\n",
            "Epoch: 2500000, loss: 8.9302\n",
            "Epoch: 2750000, loss: 8.8976\n",
            "Epoch: 3000000, loss: 8.9340\n",
            "Epoch: 3250000, loss: 8.9030\n",
            "Epoch: 3500000, loss: 8.9062\n",
            "Epoch: 3750000, loss: 8.8865\n",
            "Epoch: 4000000, loss: 8.9186\n",
            "Epoch: 4250000, loss: 8.8779\n",
            "Epoch: 4500000, loss: 8.8488\n",
            "Epoch: 4750000, loss: 8.8495\n",
            "Epoch: 5000000, loss: 8.8406\n",
            "Epoch: 5250000, loss: 8.8387\n",
            "Epoch: 5500000, loss: 8.8296\n",
            "Epoch: 5559092, loss: 6.6299\n",
            "training finished\n"
          ],
          "name": "stdout"
        }
      ]
    },
    {
      "cell_type": "markdown",
      "metadata": {
        "id": "uMCv3YI1IfUo",
        "colab_type": "text"
      },
      "source": [
        "### 2.1.4. Save Word Embeddings Model"
      ]
    },
    {
      "cell_type": "code",
      "metadata": {
        "id": "6QSpuVljrc6L",
        "colab_type": "code",
        "outputId": "02bf1f67-8ce8-4c9b-c155-7551f53b459e",
        "colab": {
          "base_uri": "https://localhost:8080/",
          "height": 73
        }
      },
      "source": [
        "torch.save(cbow_model, PATH)"
      ],
      "execution_count": 0,
      "outputs": [
        {
          "output_type": "stream",
          "text": [
            "/usr/local/lib/python3.6/dist-packages/torch/serialization.py:360: UserWarning: Couldn't retrieve source code for container of type CBOW. It won't be checked for correctness upon loading.\n",
            "  \"type \" + obj.__name__ + \". It won't be checked \"\n"
          ],
          "name": "stderr"
        }
      ]
    },
    {
      "cell_type": "markdown",
      "metadata": {
        "id": "Yn16xrDrIs8B",
        "colab_type": "text"
      },
      "source": [
        "### 2.1.5. Load Word Embeddings Model"
      ]
    },
    {
      "cell_type": "code",
      "metadata": {
        "id": "-IebpYFsIvgh",
        "colab_type": "code",
        "outputId": "26b2c747-de04-4c78-f9ef-527fe6d9ab16",
        "colab": {
          "base_uri": "https://localhost:8080/",
          "height": 107
        }
      },
      "source": [
        "cbow_model2 = torch.load(PATH)\n",
        "cbow_model2 = cbow_model2.to(device)\n",
        "cbow_model2.eval()"
      ],
      "execution_count": 0,
      "outputs": [
        {
          "output_type": "execute_result",
          "data": {
            "text/plain": [
              "CBOW(\n",
              "  (embeddings): Embedding(130260, 256)\n",
              "  (linear1): Linear(in_features=256, out_features=508, bias=True)\n",
              "  (linear2): Linear(in_features=508, out_features=130260, bias=True)\n",
              ")"
            ]
          },
          "metadata": {
            "tags": []
          },
          "execution_count": 13
        }
      ]
    },
    {
      "cell_type": "markdown",
      "metadata": {
        "colab_type": "text",
        "id": "T0ap96aeGlIk"
      },
      "source": [
        "## 2.2. Character Embeddings"
      ]
    },
    {
      "cell_type": "markdown",
      "metadata": {
        "colab_type": "text",
        "id": "d16v3oKaGlI0"
      },
      "source": [
        "### 2.2.1. Data Preprocessing for Character Embeddings"
      ]
    },
    {
      "cell_type": "markdown",
      "metadata": {
        "colab_type": "text",
        "id": "AKbLnN-3GlI1"
      },
      "source": [
        "For regularizing the input, the length of word is set to 16, which means every single word length will be transformed to exactlly 16. Due to the gates of LSTM, some important previous imformation inputed will not be easily 'forget' like RNN. Thanks to this feature, adding paddings after (not before) the characters of some words does not have much negative effect."
      ]
    },
    {
      "cell_type": "code",
      "metadata": {
        "colab_type": "code",
        "id": "i2CUCL1cGlI2",
        "outputId": "12b13622-b9d9-450b-e3b5-3af68ca1f64e",
        "colab": {
          "base_uri": "https://localhost:8080/",
          "height": 55
        }
      },
      "source": [
        "# make char table: character->number\n",
        "char_arr = ['a', 'b', 'c', 'd', 'e', 'f', 'g',\n",
        "            'h', 'i', 'j', 'k', 'l', 'm', 'n',\n",
        "            'o', 'p', 'q', 'r', 's', 't', 'u',\n",
        "            'v', 'w', 'x', 'y', 'z']\n",
        "# the number start from '1' cuz '0' is took for err handling\n",
        "char_dict = {n: i+1 for i, n in enumerate(char_arr)}\n",
        "char_dict_size = len(char_dict)\n",
        "\n",
        "# make train data: 16->1\n",
        "char_emb_train = []\n",
        "for word in word_list:\n",
        "  char_seq = []\n",
        "  # make sure all input size is exactly 16\n",
        "  for char in word:\n",
        "    if char in char_dict:\n",
        "      char_seq.append(char_dict[char])\n",
        "    else:\n",
        "      # if char is not a english character, put a '0' instead\n",
        "      char_seq.append(0)\n",
        "\n",
        "    if len(char_seq) >= 16:\n",
        "      break\n",
        "  # fill '0' into char_seq until its length become 16\n",
        "  if len(char_seq) < 16:\n",
        "    temp_seq = [0] * (16 - len(char_seq))\n",
        "    char_seq = char_seq + temp_seq \n",
        "    # putting '0's before the char_seq may be better for LSTM\n",
        "    # since the imformation could be 'forget' (actually it's a drawback of RNN, not LSTM)\n",
        "    # but the result turned out to be not really bad\n",
        "    # one reason could be the 'gates' of LSTM, the previous important imformation is remembered\n",
        "    # and also, 16 is not really long :D\n",
        "    # so just let it be like this\n",
        "\n",
        "  char_emb_train.append([char_seq, word_dict[word]])\n",
        "\n",
        "print(char_emb_train[:8])"
      ],
      "execution_count": 0,
      "outputs": [
        {
          "output_type": "stream",
          "text": [
            "[[[1, 1, 0, 0, 0, 0, 0, 0, 0, 0, 0, 0, 0, 0, 0, 0], 0], [[1, 1, 1, 0, 0, 0, 0, 0, 0, 0, 0, 0, 0, 0, 0, 0], 1], [[1, 1, 1, 1, 1, 1, 1, 1, 1, 1, 1, 1, 8, 8, 8, 8], 2], [[1, 1, 1, 1, 1, 1, 1, 1, 18, 7, 8, 0, 0, 0, 0, 0], 3], [[1, 1, 1, 1, 1, 1, 1, 8, 0, 0, 0, 0, 0, 0, 0, 0], 4], [[1, 1, 1, 1, 1, 1, 1, 8, 8, 8, 8, 8, 8, 7, 7, 7], 5], [[1, 1, 1, 1, 1, 7, 8, 0, 0, 0, 0, 0, 0, 0, 0, 0], 6], [[1, 1, 1, 1, 1, 8, 0, 0, 0, 0, 0, 0, 0, 0, 0, 0], 7]]\n"
          ],
          "name": "stdout"
        }
      ]
    },
    {
      "cell_type": "code",
      "metadata": {
        "id": "u13l7N6SXo57",
        "colab_type": "code",
        "outputId": "8c9028d1-7e43-4ae0-f049-d00f660595b0",
        "colab": {
          "base_uri": "https://localhost:8080/",
          "height": 55
        }
      },
      "source": [
        "# make batch: randomly choose data from dataset\n",
        "def char_encoder(char_input):\n",
        "  temp = [0] * (char_dict_size + 1)\n",
        "  temp[char_input] = 1\n",
        "  return temp\n",
        "\n",
        "# make a dictionary for character vector\n",
        "char_vec = {char_dict[c]: char_encoder(char_dict[c]) for c in char_arr}\n",
        "char_vec[0] = [1] + ([0] * char_dict_size)\n",
        "print(char_vec)\n",
        "\n",
        "# randomly choose data as member of batch\n",
        "def batch_prep(dataset, batch_size):\n",
        "  input_batch = []\n",
        "  target_batch = []\n",
        "  random_index = np.random.choice(range(len(dataset)), batch_size, replace=True)\n",
        "\n",
        "  for i in random_index:\n",
        "    input_batch.append([char_vec[c] for c in dataset[i][0]])\n",
        "    target_batch.append(dataset[i][1])\n",
        "\n",
        "  return np.array(input_batch), np.array(target_batch)"
      ],
      "execution_count": 0,
      "outputs": [
        {
          "output_type": "stream",
          "text": [
            "{1: [0, 1, 0, 0, 0, 0, 0, 0, 0, 0, 0, 0, 0, 0, 0, 0, 0, 0, 0, 0, 0, 0, 0, 0, 0, 0, 0], 2: [0, 0, 1, 0, 0, 0, 0, 0, 0, 0, 0, 0, 0, 0, 0, 0, 0, 0, 0, 0, 0, 0, 0, 0, 0, 0, 0], 3: [0, 0, 0, 1, 0, 0, 0, 0, 0, 0, 0, 0, 0, 0, 0, 0, 0, 0, 0, 0, 0, 0, 0, 0, 0, 0, 0], 4: [0, 0, 0, 0, 1, 0, 0, 0, 0, 0, 0, 0, 0, 0, 0, 0, 0, 0, 0, 0, 0, 0, 0, 0, 0, 0, 0], 5: [0, 0, 0, 0, 0, 1, 0, 0, 0, 0, 0, 0, 0, 0, 0, 0, 0, 0, 0, 0, 0, 0, 0, 0, 0, 0, 0], 6: [0, 0, 0, 0, 0, 0, 1, 0, 0, 0, 0, 0, 0, 0, 0, 0, 0, 0, 0, 0, 0, 0, 0, 0, 0, 0, 0], 7: [0, 0, 0, 0, 0, 0, 0, 1, 0, 0, 0, 0, 0, 0, 0, 0, 0, 0, 0, 0, 0, 0, 0, 0, 0, 0, 0], 8: [0, 0, 0, 0, 0, 0, 0, 0, 1, 0, 0, 0, 0, 0, 0, 0, 0, 0, 0, 0, 0, 0, 0, 0, 0, 0, 0], 9: [0, 0, 0, 0, 0, 0, 0, 0, 0, 1, 0, 0, 0, 0, 0, 0, 0, 0, 0, 0, 0, 0, 0, 0, 0, 0, 0], 10: [0, 0, 0, 0, 0, 0, 0, 0, 0, 0, 1, 0, 0, 0, 0, 0, 0, 0, 0, 0, 0, 0, 0, 0, 0, 0, 0], 11: [0, 0, 0, 0, 0, 0, 0, 0, 0, 0, 0, 1, 0, 0, 0, 0, 0, 0, 0, 0, 0, 0, 0, 0, 0, 0, 0], 12: [0, 0, 0, 0, 0, 0, 0, 0, 0, 0, 0, 0, 1, 0, 0, 0, 0, 0, 0, 0, 0, 0, 0, 0, 0, 0, 0], 13: [0, 0, 0, 0, 0, 0, 0, 0, 0, 0, 0, 0, 0, 1, 0, 0, 0, 0, 0, 0, 0, 0, 0, 0, 0, 0, 0], 14: [0, 0, 0, 0, 0, 0, 0, 0, 0, 0, 0, 0, 0, 0, 1, 0, 0, 0, 0, 0, 0, 0, 0, 0, 0, 0, 0], 15: [0, 0, 0, 0, 0, 0, 0, 0, 0, 0, 0, 0, 0, 0, 0, 1, 0, 0, 0, 0, 0, 0, 0, 0, 0, 0, 0], 16: [0, 0, 0, 0, 0, 0, 0, 0, 0, 0, 0, 0, 0, 0, 0, 0, 1, 0, 0, 0, 0, 0, 0, 0, 0, 0, 0], 17: [0, 0, 0, 0, 0, 0, 0, 0, 0, 0, 0, 0, 0, 0, 0, 0, 0, 1, 0, 0, 0, 0, 0, 0, 0, 0, 0], 18: [0, 0, 0, 0, 0, 0, 0, 0, 0, 0, 0, 0, 0, 0, 0, 0, 0, 0, 1, 0, 0, 0, 0, 0, 0, 0, 0], 19: [0, 0, 0, 0, 0, 0, 0, 0, 0, 0, 0, 0, 0, 0, 0, 0, 0, 0, 0, 1, 0, 0, 0, 0, 0, 0, 0], 20: [0, 0, 0, 0, 0, 0, 0, 0, 0, 0, 0, 0, 0, 0, 0, 0, 0, 0, 0, 0, 1, 0, 0, 0, 0, 0, 0], 21: [0, 0, 0, 0, 0, 0, 0, 0, 0, 0, 0, 0, 0, 0, 0, 0, 0, 0, 0, 0, 0, 1, 0, 0, 0, 0, 0], 22: [0, 0, 0, 0, 0, 0, 0, 0, 0, 0, 0, 0, 0, 0, 0, 0, 0, 0, 0, 0, 0, 0, 1, 0, 0, 0, 0], 23: [0, 0, 0, 0, 0, 0, 0, 0, 0, 0, 0, 0, 0, 0, 0, 0, 0, 0, 0, 0, 0, 0, 0, 1, 0, 0, 0], 24: [0, 0, 0, 0, 0, 0, 0, 0, 0, 0, 0, 0, 0, 0, 0, 0, 0, 0, 0, 0, 0, 0, 0, 0, 1, 0, 0], 25: [0, 0, 0, 0, 0, 0, 0, 0, 0, 0, 0, 0, 0, 0, 0, 0, 0, 0, 0, 0, 0, 0, 0, 0, 0, 1, 0], 26: [0, 0, 0, 0, 0, 0, 0, 0, 0, 0, 0, 0, 0, 0, 0, 0, 0, 0, 0, 0, 0, 0, 0, 0, 0, 0, 1], 0: [1, 0, 0, 0, 0, 0, 0, 0, 0, 0, 0, 0, 0, 0, 0, 0, 0, 0, 0, 0, 0, 0, 0, 0, 0, 0, 0]}\n"
          ],
          "name": "stdout"
        }
      ]
    },
    {
      "cell_type": "markdown",
      "metadata": {
        "colab_type": "text",
        "id": "zgiOPcsTGlI6"
      },
      "source": [
        "### 2.2.2. Build Character Embeddings Model"
      ]
    },
    {
      "cell_type": "markdown",
      "metadata": {
        "colab_type": "text",
        "id": "4NtqFFcjGlI7"
      },
      "source": [
        "LSTM is used here for character embedding, as mentioned before, the feature of long-short term memmory does help to reduce the influence of vanishing gradient problem. As for hyperparameters, because this model runs fast, the learning rate is set to 0.005, and the epoch is a bit large which is related to the size of batch and dataset (basicly each characters-to-word set will be trained 32 times on average). The predicting accuracy turned to be satisfying."
      ]
    },
    {
      "cell_type": "code",
      "metadata": {
        "colab_type": "code",
        "id": "jj3YZ3PWGlI8",
        "colab": {}
      },
      "source": [
        "# Setting hyperparameters\n",
        "batch_size = 512\n",
        "learning_rate = 0.005\n",
        "n_hidden = 256\n",
        "total_epoch = int(len(char_emb_train) / batch_size * 32)\n",
        "\n",
        "# Number of sequences (length of word)\n",
        "n_step = 16\n",
        "\n",
        "# number of inputs (dimension of input vector) = 27 (one more for err)\n",
        "n_input = 27\n",
        "# number of classes\n",
        "n_class = voc_size"
      ],
      "execution_count": 0,
      "outputs": []
    },
    {
      "cell_type": "code",
      "metadata": {
        "id": "JFQ8_EcpzPL-",
        "colab_type": "code",
        "colab": {}
      },
      "source": [
        "class Net(nn.Module):\n",
        "  def __init__(self):\n",
        "    super(Net, self).__init__()\n",
        "    self.lstm = nn.LSTM(n_input, n_hidden, batch_first =True)\n",
        "    self.linear = nn.Linear(n_hidden, n_class)\n",
        "\n",
        "  def forward(self, x):        \n",
        "    # lstm layer\n",
        "    x,_ = self.lstm(x)\n",
        "    # linear layer\n",
        "    x = self.linear(x[:,-1,:]) # only take the last state as prediction\n",
        "    # softmax layer\n",
        "    x = F.log_softmax(x, dim=1)\n",
        "    return x"
      ],
      "execution_count": 0,
      "outputs": []
    },
    {
      "cell_type": "markdown",
      "metadata": {
        "colab_type": "text",
        "id": "46W0zFfWGlI_"
      },
      "source": [
        "### 2.1.4. Train Character Embeddings Model"
      ]
    },
    {
      "cell_type": "code",
      "metadata": {
        "id": "17eibm_4z8dO",
        "colab_type": "code",
        "colab": {}
      },
      "source": [
        "net = Net().to(device)\n",
        "criterion = nn.NLLLoss()\n",
        "optimizer = optim.Adam(net.parameters(), lr=learning_rate)"
      ],
      "execution_count": 0,
      "outputs": []
    },
    {
      "cell_type": "code",
      "metadata": {
        "id": "LFAeDcYu0NeB",
        "colab_type": "code",
        "outputId": "ed142440-5872-4f02-c58c-1803f5ccfae8",
        "colab": {
          "base_uri": "https://localhost:8080/",
          "height": 161
        }
      },
      "source": [
        "for epoch in range(total_epoch):\n",
        "\n",
        "  input_batch, target_batch = batch_prep(char_emb_train, batch_size)\n",
        "  input_batch_torch = torch.from_numpy(input_batch).float().to(device)\n",
        "  target_batch_torch = torch.from_numpy(target_batch).view(-1).to(device)\n",
        "\n",
        "  net.train()\n",
        "  outputs = net(input_batch_torch)\n",
        "  loss = criterion(outputs, target_batch_torch)\n",
        "  loss.backward()\n",
        "  optimizer.step()\n",
        "  optimizer.zero_grad()\n",
        "  \n",
        "  if epoch % 1000 == 999:\n",
        "    net.eval()\n",
        "    outputs = net(input_batch_torch) \n",
        "    train_loss = criterion(outputs, target_batch_torch)\n",
        "    _, predicted = torch.max(outputs, 1)\n",
        "    train_acc= accuracy_score(predicted.cpu().numpy(),target_batch_torch.cpu().numpy())\n",
        "\n",
        "    print('Epoch: %d, train loss: %.5f, train_acc: %.4f'%(epoch + 1, train_loss.item(), train_acc))"
      ],
      "execution_count": 0,
      "outputs": [
        {
          "output_type": "stream",
          "text": [
            "Epoch: 1000, train loss: 6.91362, train_acc: 0.0918\n",
            "Epoch: 2000, train loss: 1.76951, train_acc: 0.6152\n",
            "Epoch: 3000, train loss: 0.52696, train_acc: 0.8594\n",
            "Epoch: 4000, train loss: 0.21255, train_acc: 0.9570\n",
            "Epoch: 5000, train loss: 0.19624, train_acc: 0.9570\n",
            "Epoch: 6000, train loss: 0.20900, train_acc: 0.9590\n",
            "Epoch: 7000, train loss: 0.13306, train_acc: 0.9746\n",
            "Epoch: 8000, train loss: 0.09582, train_acc: 0.9766\n"
          ],
          "name": "stdout"
        }
      ]
    },
    {
      "cell_type": "markdown",
      "metadata": {
        "colab_type": "text",
        "id": "R5Bym9bBGlJE"
      },
      "source": [
        "### 2.1.5. Save Character Embeddings Model"
      ]
    },
    {
      "cell_type": "code",
      "metadata": {
        "id": "WbFlt9qpZqrm",
        "colab_type": "code",
        "colab": {}
      },
      "source": [
        "PATH2 = './drive/My Drive/btan4740_character.pt'"
      ],
      "execution_count": 0,
      "outputs": []
    },
    {
      "cell_type": "code",
      "metadata": {
        "colab_type": "code",
        "id": "ggTsYIm7GlJF",
        "colab": {}
      },
      "source": [
        "drive.mount('/content/drive')\n",
        "#torch.save(net, PATH2)"
      ],
      "execution_count": 0,
      "outputs": []
    },
    {
      "cell_type": "markdown",
      "metadata": {
        "colab_type": "text",
        "id": "JwOI-wIKGlJI"
      },
      "source": [
        "### 2.1.6. Load Character Embeddings Model"
      ]
    },
    {
      "cell_type": "code",
      "metadata": {
        "id": "4-jyj-lOHWWj",
        "colab_type": "code",
        "outputId": "c6e1c2b9-d3d9-45c3-b586-db25512d7f5d",
        "colab": {
          "base_uri": "https://localhost:8080/",
          "height": 89
        }
      },
      "source": [
        "char_emb_model = torch.load(PATH2)\n",
        "char_emb_model = char_emb_model.to(device)\n",
        "char_emb_model.eval()"
      ],
      "execution_count": 0,
      "outputs": [
        {
          "output_type": "execute_result",
          "data": {
            "text/plain": [
              "Net(\n",
              "  (lstm): LSTM(27, 256, batch_first=True)\n",
              "  (linear): Linear(in_features=256, out_features=130259, bias=True)\n",
              ")"
            ]
          },
          "metadata": {
            "tags": []
          },
          "execution_count": 18
        }
      ]
    },
    {
      "cell_type": "code",
      "metadata": {
        "id": "QJAyFwAOEGGX",
        "colab_type": "code",
        "colab": {}
      },
      "source": [
        "input_batch, _ = batch_prep(char_emb_train, 1)\n",
        "input_batch_torch = torch.from_numpy(input_batch).float().to(device)\n",
        "output = char_emb_model(input_batch_torch)"
      ],
      "execution_count": 0,
      "outputs": []
    },
    {
      "cell_type": "code",
      "metadata": {
        "id": "msIB9x4NJ5Uk",
        "colab_type": "code",
        "outputId": "822620fd-6502-4d44-ca07-2440e8b0b3c2",
        "colab": {
          "base_uri": "https://localhost:8080/",
          "height": 35
        }
      },
      "source": [
        "_, pred = torch.max(output, 1)\n",
        "print(pred)"
      ],
      "execution_count": 0,
      "outputs": [
        {
          "output_type": "stream",
          "text": [
            "tensor([100476], device='cuda:0')\n"
          ],
          "name": "stdout"
        }
      ]
    },
    {
      "cell_type": "markdown",
      "metadata": {
        "id": "tlCeWT8eeLnd",
        "colab_type": "text"
      },
      "source": [
        "## 2.3. Sequence model"
      ]
    },
    {
      "cell_type": "markdown",
      "metadata": {
        "id": "8h-xPjFtnK_A",
        "colab_type": "text"
      },
      "source": [
        "The sequence model is basicly a LSTM with an embedding layer. This model directly copy the embedding layer of previous word embedding model."
      ]
    },
    {
      "cell_type": "markdown",
      "metadata": {
        "id": "fwA-NN3EJ4Ig",
        "colab_type": "text"
      },
      "source": [
        "### 2.3.1. Apply/Import Word Embedding and Character Embedding Model"
      ]
    },
    {
      "cell_type": "markdown",
      "metadata": {
        "id": "fWM8uOWZqETq",
        "colab_type": "text"
      },
      "source": [
        "The character embedding model is applied as translator to predict the words from both training set and test set. And each review are changed to exactly 256-word long (adding empty words before reviews or cutting down the sentences)."
      ]
    },
    {
      "cell_type": "markdown",
      "metadata": {
        "id": "5VjKOXHn3SGE",
        "colab_type": "text"
      },
      "source": [
        "Why not transform all reviews to number sequences and then generate batches through `Dataloader`? It could be done if there is no disconection issue (wasted a lot of time on it) and this would save a lot of training time. If the code ran locally, I will do this (actually I could have done the prediction locally and upload the processed data but I did not realized it)."
      ]
    },
    {
      "cell_type": "code",
      "metadata": {
        "id": "13eCtR_SLUG6",
        "colab_type": "code",
        "colab": {}
      },
      "source": [
        "# set max length\n",
        "MAX_LENGTH = 256\n",
        "\n",
        "def word_pred(word):\n",
        "  vec_temp = []\n",
        "  #print(word)\n",
        "  # transform characters into numbers\n",
        "  # if not character, just put char_vec[0] instead\n",
        "  for ch in word:\n",
        "    if ch in char_arr:\n",
        "      vec_temp.append(char_vec[char_dict[ch]])    \n",
        "    else:\n",
        "      vec_temp.append(char_vec[0])\n",
        "\n",
        "    if len(vec_temp) >= 16:\n",
        "      break\n",
        "  # regularize the length of every word to 16\n",
        "  if len(vec_temp) < 16:\n",
        "    for i in range(16-len(vec_temp)):\n",
        "      vec_temp.append(char_vec[0])\n",
        "\n",
        "  vec_temp = np.array([vec_temp])\n",
        "  #print(vec_temp)\n",
        "\n",
        "  # predict the word through character embedding model\n",
        "  input_torch = torch.from_numpy(vec_temp).float().to(device)\n",
        "  output = char_emb_model(input_torch)\n",
        "  _, pred = torch.max(output, 1)\n",
        "  pred = pred.cpu().tolist()\n",
        "\n",
        "  return pred[0]\n",
        "\n",
        "def padding_filter(line, voc_size, max_length):\n",
        "  line_temp = []\n",
        "  for i in range(max_length - len(line)):\n",
        "    line_temp.append(voc_size)\n",
        "\n",
        "  return line_temp+line\n",
        "\n",
        "# transform review into a sequence of numbers predicted by character embedding model\n",
        "def seq_prep(review, voc_size, max_length):\n",
        "  line = []\n",
        "  for word in review:\n",
        "    pred = word_pred(word)\n",
        "    line.append(pred)\n",
        "    \n",
        "    if len(line) >= max_length:\n",
        "      break\n",
        "  \n",
        "  if len(line) < max_length:\n",
        "    line = padding_filter(line, voc_size, max_length)\n",
        "\n",
        "  return line"
      ],
      "execution_count": 0,
      "outputs": []
    },
    {
      "cell_type": "code",
      "metadata": {
        "id": "dhFD2k812uYi",
        "colab_type": "code",
        "colab": {}
      },
      "source": [
        "seq_prep(tokens_train[0], voc_size, MAX_LENGTH)"
      ],
      "execution_count": 0,
      "outputs": []
    },
    {
      "cell_type": "code",
      "metadata": {
        "id": "B_hxVONcTIRh",
        "colab_type": "code",
        "colab": {}
      },
      "source": [
        "# prepare batch\n",
        "# choose randoml reviews as inputs\n",
        "def batch_prep2(dataset_X, dataset_y, batch_size):\n",
        "  inputs_batch = []\n",
        "  labels_batch = []\n",
        "  random_index = np.random.choice(range(len(dataset_X)), batch_size, replace=True)\n",
        "\n",
        "  for i in random_index:\n",
        "    inputs_batch.append(seq_prep(dataset_X[i], voc_size, MAX_LENGTH))\n",
        "    labels_batch.append(dataset_y[i])\n",
        "\n",
        "  return inputs_batch, labels_batch"
      ],
      "execution_count": 0,
      "outputs": []
    },
    {
      "cell_type": "code",
      "metadata": {
        "id": "4U7SW-YBz7il",
        "colab_type": "code",
        "colab": {}
      },
      "source": [
        "batch_prep2(tokens_train, labels_train, 1)"
      ],
      "execution_count": 0,
      "outputs": []
    },
    {
      "cell_type": "markdown",
      "metadata": {
        "id": "DpYCL17JKZxl",
        "colab_type": "text"
      },
      "source": [
        "### 2.3.2. Build Sequence Model"
      ]
    },
    {
      "cell_type": "markdown",
      "metadata": {
        "id": "R204UIyDKhZ4",
        "colab_type": "text"
      },
      "source": [
        "The learning rate is 0.001 according to the total epoch and batch_size. For each epoch, a batch of 128 reviews would be randomly selected from the training set."
      ]
    },
    {
      "cell_type": "markdown",
      "metadata": {
        "id": "3ZyfF4c_0o-5",
        "colab_type": "text"
      },
      "source": [
        "The main difference between the sequence model and the character embedding model is the embedding layer copied from word2vec-CBOW model."
      ]
    },
    {
      "cell_type": "code",
      "metadata": {
        "id": "U9xUPZ4dOzE0",
        "colab_type": "code",
        "colab": {}
      },
      "source": [
        "learning_rate = 0.001\n",
        "tagset_size = 2\n",
        "hidden_dim = 256\n",
        "batch_size = 128"
      ],
      "execution_count": 0,
      "outputs": []
    },
    {
      "cell_type": "code",
      "metadata": {
        "id": "3dYkskQlH-LM",
        "colab_type": "code",
        "colab": {}
      },
      "source": [
        "class SeqTagger(nn.Module):\n",
        "\n",
        "  def __init__(self, embedding_dim, hidden_dim, vocab_size, tagset_size):\n",
        "    super(SeqTagger, self).__init__()\n",
        "    self.hidden_dim = hidden_dim\n",
        "    # embedding layer, the size is the same as word2vec-CBOW model\n",
        "    self.word_embeddings = nn.Embedding(vocab_size, embedding_dim)\n",
        "    # LSTM\n",
        "    self.lstm = nn.LSTM(embedding_dim, hidden_dim, batch_first=True) \n",
        "    # LSTM to tag\n",
        "    self.hidden2tag = nn.Linear(hidden_dim, tagset_size)\n",
        "\n",
        "\n",
        "  def forward(self, sentence):\n",
        "    embeds = self.word_embeddings(sentence)\n",
        "    lstm_out, _ = self.lstm(embeds)\n",
        "    # only select the last state of LSTM\n",
        "    tag_space = self.hidden2tag(lstm_out[:,-1,:])\n",
        "    tag_scores = F.log_softmax(tag_space, dim=1)\n",
        "    return tag_scores"
      ],
      "execution_count": 0,
      "outputs": []
    },
    {
      "cell_type": "code",
      "metadata": {
        "id": "zHEH5S8ZO9yc",
        "colab_type": "code",
        "colab": {}
      },
      "source": [
        "seq_model = SeqTagger(embedding_dim, hidden_dim, voc_size+1, tagset_size).to(device)\n",
        "seq_model.word_embeddings = cbow_model2.embeddings\n",
        "loss_function = nn.NLLLoss()\n",
        "optimizer = torch.optim.Adam(seq_model.parameters(), lr=learning_rate)"
      ],
      "execution_count": 0,
      "outputs": []
    },
    {
      "cell_type": "markdown",
      "metadata": {
        "id": "6BaOiaGRLW7R",
        "colab_type": "text"
      },
      "source": [
        "### 2.3.3. Train Sequence Model"
      ]
    },
    {
      "cell_type": "code",
      "metadata": {
        "id": "lVQnUSX1LZ6C",
        "colab_type": "code",
        "outputId": "11959c53-3a3e-4375-a80f-97d275304d90",
        "colab": {
          "base_uri": "https://localhost:8080/",
          "height": 161
        }
      },
      "source": [
        "loss_now = 0.0\n",
        "for epoch in range(400):  \n",
        "  # total epoch could be larger if more time and GPU resources were available\n",
        "  X, y = batch_prep2(tokens_train, labels_train, batch_size)\n",
        "  sentences = torch.LongTensor(X).to(device)\n",
        "  labels = torch.tensor(y).view(-1).to(device)\n",
        "\n",
        "  seq_model.zero_grad()\n",
        "  seq_model.train()\n",
        "  tag_scores = seq_model(sentences)\n",
        "  \n",
        "  # loss calculate and backward\n",
        "  loss = loss_function(tag_scores, labels.view(-1))\n",
        "  loss.backward()\n",
        "  optimizer.step()\n",
        "\n",
        "  loss_now+=loss.item()\n",
        "  \n",
        "  if epoch % 20 == 19: \n",
        "    seq_model.eval()\n",
        "    tag_scores = seq_model(sentences)\n",
        "    _, predicted = torch.max(tag_scores, 1)\n",
        "    train_acc= accuracy_score(predicted.cpu().numpy(), labels.view(-1).cpu().numpy())\n",
        "    # print the average loss of last 20 epoch and the accuracy of this epoch\n",
        "    print('Epoch: %d, training loss: %.4f, training acc: %.2f'%(epoch+1, loss_now/20, train_acc))\n",
        "    loss_now = 0.0"
      ],
      "execution_count": 0,
      "outputs": [
        {
          "output_type": "stream",
          "text": [
            "Epoch: 260, training loss: 0.0805, training acc: 0.74\n",
            "Epoch: 280, training loss: 0.5093, training acc: 0.73\n",
            "Epoch: 300, training loss: 0.4410, training acc: 0.80\n",
            "Epoch: 320, training loss: 0.3671, training acc: 0.79\n",
            "Epoch: 340, training loss: 0.3301, training acc: 0.83\n",
            "Epoch: 360, training loss: 0.3230, training acc: 0.92\n",
            "Epoch: 380, training loss: 0.2873, training acc: 0.88\n",
            "Epoch: 400, training loss: 0.2873, training acc: 0.84\n"
          ],
          "name": "stdout"
        }
      ]
    },
    {
      "cell_type": "markdown",
      "metadata": {
        "id": "-2feNpG-LZx2",
        "colab_type": "text"
      },
      "source": [
        "### 2.3.4. Save Sequence Model"
      ]
    },
    {
      "cell_type": "code",
      "metadata": {
        "id": "sflUAgV4L1o8",
        "colab_type": "code",
        "colab": {}
      },
      "source": [
        "PATH3 = './drive/My Drive/btan4740_sequence.pt'"
      ],
      "execution_count": 0,
      "outputs": []
    },
    {
      "cell_type": "code",
      "metadata": {
        "id": "SnZmO7O1FdnS",
        "colab_type": "code",
        "outputId": "286d2982-f109-40a2-b6f6-1ea9c515680a",
        "colab": {
          "base_uri": "https://localhost:8080/",
          "height": 73
        }
      },
      "source": [
        "torch.save(seq_model, PATH3)"
      ],
      "execution_count": 0,
      "outputs": [
        {
          "output_type": "stream",
          "text": [
            "/usr/local/lib/python3.6/dist-packages/torch/serialization.py:360: UserWarning: Couldn't retrieve source code for container of type SeqTagger. It won't be checked for correctness upon loading.\n",
            "  \"type \" + obj.__name__ + \". It won't be checked \"\n"
          ],
          "name": "stderr"
        }
      ]
    },
    {
      "cell_type": "markdown",
      "metadata": {
        "id": "4zFo6YppL6w3",
        "colab_type": "text"
      },
      "source": [
        "### 2.3.5. Load Sequence Model"
      ]
    },
    {
      "cell_type": "code",
      "metadata": {
        "id": "OtNxLzDGMCan",
        "colab_type": "code",
        "colab": {}
      },
      "source": [
        "seq_model2 = torch.load(PATH3)\n",
        "seq_model2 = seq_model2.to(device)"
      ],
      "execution_count": 0,
      "outputs": []
    },
    {
      "cell_type": "markdown",
      "metadata": {
        "id": "a4mpRpocePLN",
        "colab_type": "text"
      },
      "source": [
        "# 3 - Evaluation"
      ]
    },
    {
      "cell_type": "markdown",
      "metadata": {
        "id": "KEW1zMgVMREr",
        "colab_type": "text"
      },
      "source": [
        "## 3.1. Performance Evaluation\n",
        "\n",
        "\n",
        "A table with precision, recall, f1 of test set is provided and one batch of 1280 random cases (not the whole set, mainly for save time because the sequence generator runs really slow) from test set are selected for testing."
      ]
    },
    {
      "cell_type": "code",
      "metadata": {
        "id": "LPHCb-bneTI9",
        "colab_type": "code",
        "colab": {}
      },
      "source": [
        "X, y = batch_prep2(tokens_test, labels_test, 1280)\n",
        "sentences = torch.LongTensor(X).to(device)\n",
        "labels = torch.tensor(y).view(-1).to(device)"
      ],
      "execution_count": 0,
      "outputs": []
    },
    {
      "cell_type": "code",
      "metadata": {
        "id": "rV1M1Fw4O2x5",
        "colab_type": "code",
        "colab": {}
      },
      "source": [
        "seq_model2.eval()\n",
        "\n",
        "tag_scores = seq_model2(sentences)\n",
        "_, predicted = torch.max(tag_scores, 1)\n",
        "y_pred = predicted.cpu().numpy()\n",
        "y_true = labels.view(-1).cpu().numpy()"
      ],
      "execution_count": 0,
      "outputs": []
    },
    {
      "cell_type": "code",
      "metadata": {
        "id": "YXPrJH_mNDEJ",
        "colab_type": "code",
        "outputId": "7aa1f0de-777b-46ff-b533-3f08e03aed5a",
        "colab": {
          "base_uri": "https://localhost:8080/",
          "height": 179
        }
      },
      "source": [
        "\"\"\"\n",
        "precision = precision_score(y_true, y_pred)\n",
        "recall = recall_score(y_true, y_pred)\n",
        "f1 = f1_score(y_true, y_pred)\n",
        "\"\"\"\n",
        "from sklearn.metrics import classification_report\n",
        "\n",
        "print(classification_report(y_true, y_pred, digits=4))"
      ],
      "execution_count": 0,
      "outputs": [
        {
          "output_type": "stream",
          "text": [
            "              precision    recall  f1-score   support\n",
            "\n",
            "           0     0.8337    0.6305    0.7180       636\n",
            "           1     0.7059    0.8758    0.7817       644\n",
            "\n",
            "    accuracy                         0.7539      1280\n",
            "   macro avg     0.7698    0.7531    0.7498      1280\n",
            "weighted avg     0.7694    0.7539    0.7500      1280\n",
            "\n"
          ],
          "name": "stdout"
        }
      ]
    },
    {
      "cell_type": "markdown",
      "metadata": {
        "id": "P28Z1k36MZuo",
        "colab_type": "text"
      },
      "source": [
        "## 3.2. Hyperparameter Testing"
      ]
    },
    {
      "cell_type": "markdown",
      "metadata": {
        "id": "F83Lr68DKcj_",
        "colab_type": "text"
      },
      "source": [
        "The batch size is different from training process (128->1280), so the epoch is reduced. And the learning rate is the same as it in training process."
      ]
    },
    {
      "cell_type": "code",
      "metadata": {
        "id": "wTLyQEeZMZ2f",
        "colab_type": "code",
        "colab": {}
      },
      "source": [
        "learning_rate = 0.001\n",
        "loss_function = nn.NLLLoss()\n",
        "optimizer = torch.optim.Adam(seq_model2.parameters(), lr=learning_rate)"
      ],
      "execution_count": 0,
      "outputs": []
    },
    {
      "cell_type": "code",
      "metadata": {
        "id": "3w026fg7cLCD",
        "colab_type": "code",
        "colab": {}
      },
      "source": [
        "from sklearn.metrics import f1_score\n",
        "\n",
        "f1s = []\n",
        "for epoch in range(20):  \n",
        "  X, y = batch_prep2(tokens_test, labels_test, 1280)\n",
        "  sentences = torch.LongTensor(X).to(device)\n",
        "  labels = torch.tensor(y).view(-1).to(device)\n",
        "\n",
        "  seq_model2.zero_grad()\n",
        "  seq_model2.train()\n",
        "  tag_scores = seq_model2(sentences)\n",
        "  \n",
        "  # loss calculate and backward\n",
        "  loss = loss_function(tag_scores, labels.view(-1))\n",
        "  loss.backward()\n",
        "  optimizer.step()\n",
        "\n",
        "  seq_model2.eval()\n",
        "  tag_scores = seq_model2(sentences)\n",
        "  _, predicted = torch.max(tag_scores, 1)\n",
        "  y_pred = predicted.cpu().numpy()\n",
        "  y_true = labels.view(-1).cpu().numpy()\n",
        "  # get f1 scores\n",
        "  f1 = f1_score(y_true, y_pred)\n",
        "  f1s.append((epoch, f1))"
      ],
      "execution_count": 0,
      "outputs": []
    },
    {
      "cell_type": "code",
      "metadata": {
        "id": "E9cachG3CZmS",
        "colab_type": "code",
        "outputId": "79949126-3a4a-4293-df9d-17fb6a4c61ca",
        "colab": {
          "base_uri": "https://localhost:8080/",
          "height": 55
        }
      },
      "source": [
        "print(f1s)"
      ],
      "execution_count": 0,
      "outputs": [
        {
          "output_type": "stream",
          "text": [
            "[(0, 0.7669819432502148), (1, 0.7567114093959731), (2, 0.7818028643639426), (3, 0.8438880706921944), (4, 0.8395802098950526), (5, 0.8302493966210781), (6, 0.8283642224012894), (7, 0.839622641509434), (8, 0.8305489260143198), (9, 0.845872899926954), (10, 0.8524833209785027), (11, 0.8595548733691482), (12, 0.845360824742268), (13, 0.8601798855273917), (14, 0.8477034649476229), (15, 0.8514548238897396), (16, 0.8487261146496815), (17, 0.8661764705882353), (18, 0.8639344262295081), (19, 0.8704422032583398)]\n"
          ],
          "name": "stdout"
        }
      ]
    },
    {
      "cell_type": "code",
      "metadata": {
        "id": "G9bNuOKNBUJ-",
        "colab_type": "code",
        "outputId": "7eb60875-4569-472e-aa50-f311cfecee89",
        "colab": {
          "base_uri": "https://localhost:8080/",
          "height": 283
        }
      },
      "source": [
        "import matplotlib.pyplot as plt\n",
        "from scipy.interpolate import BSpline\n",
        "%matplotlib inline\n",
        "\n",
        "Xs = []\n",
        "Ys = []\n",
        "for point in f1s:\n",
        "  x, y = point\n",
        "  Xs += [x]\n",
        "  Ys += [y]\n",
        "\n",
        "Xs = np.array(Xs, dtype=int)\n",
        "Ys = np.array(Ys)\n",
        "\n",
        "plt.figure()\n",
        "plt.xlim((0, 18))\n",
        "plt.ylim((0.75, 0.9))\n",
        "plt.xlabel('epoch')\n",
        "plt.ylabel('f1 score')\n",
        "plt.plot(Xs, Ys)\n",
        "plt.show()"
      ],
      "execution_count": 0,
      "outputs": [
        {
          "output_type": "display_data",
          "data": {
            "image/png": "[encoded data removed]",
            "text/plain": [
              "<Figure size 432x288 with 1 Axes>"
            ]
          },
          "metadata": {
            "tags": [],
            "needs_background": "light"
          }
        }
      ]
    },
    {
      "cell_type": "markdown",
      "metadata": {
        "id": "59Iy7lTfKvMk",
        "colab_type": "text"
      },
      "source": [
        "The figure shows that with the learning rate 0.001, since epoch 11 the f1 socre tends to be stable."
      ]
    },
    {
      "cell_type": "markdown",
      "metadata": {
        "id": "EhisT7xmSd6T",
        "colab_type": "text"
      },
      "source": [
        "# Summary\n",
        "The model could be improved (hyperparameters, network size); the preprocessing techniques could be furtherly optimized, such as merging different tenses for the same word; and some mistakes, such as adding padding after the characters in character embedding, should be avoid."
      ]
    }
  ]
}