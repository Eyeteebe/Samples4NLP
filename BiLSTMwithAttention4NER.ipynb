{
  "nbformat": 4,
  "nbformat_minor": 0,
  "metadata": {
    "colab": {
      "name": "Group13_A2.ipynb",
      "provenance": [],
      "collapsed_sections": [],
      "toc_visible": true
    },
    "kernelspec": {
      "name": "python3",
      "display_name": "Python 3"
    },
    "accelerator": "GPU"
  },
  "cells": [
    {
      "cell_type": "markdown",
      "metadata": {
        "id": "0fOm7fm8HvFk",
        "colab_type": "text"
      },
      "source": [
        "# Named Entity Recognition\n",
        "Bo Tang, Lei Zhang"
      ]
    },
    {
      "cell_type": "markdown",
      "metadata": {
        "id": "a10ARYKyJfgp",
        "colab_type": "text"
      },
      "source": [
        "## Data Loading"
      ]
    },
    {
      "cell_type": "code",
      "metadata": {
        "id": "qq2SChkuGgWQ",
        "colab_type": "code",
        "outputId": "128cf122-160b-478b-8e68-7f1a01d0e66b",
        "colab": {
          "base_uri": "https://localhost:8080/",
          "height": 71
        }
      },
      "source": [
        "# Code to download file into Colaboratory:\n",
        "!pip install -U -q PyDrive\n",
        "from pydrive.auth import GoogleAuth\n",
        "from pydrive.drive import GoogleDrive\n",
        "from google.colab import auth\n",
        "from oauth2client.client import GoogleCredentials\n",
        "# Authenticate and create the PyDrive client.\n",
        "auth.authenticate_user()\n",
        "gauth = GoogleAuth()\n",
        "gauth.credentials = GoogleCredentials.get_application_default()\n",
        "drive = GoogleDrive(gauth)\n",
        "\n",
        "id = '1bRJfOMg3mF7nkwtYBk1zNEt_rPbaX3gY'\n",
        "downloaded = drive.CreateFile({'id':id})\n",
        "downloaded.GetContentFile('train.csv')\n",
        "\n",
        "id = '1qKJMnnb5xKPtl6_qzqPXyu-yvmcXY2g4'\n",
        "downloaded = drive.CreateFile({'id':id})\n",
        "downloaded.GetContentFile('test.csv')\n",
        "\n",
        "id = '1wgCCkjZpXEZ-Z2xarj0LTopJ38AR3Ylu'\n",
        "downloaded = drive.CreateFile({'id':id})\n",
        "downloaded.GetContentFile('val.csv')\n",
        "\n",
        "import pandas as pd\n",
        "\n",
        "df_train = pd.read_csv('train.csv')\n",
        "df_test = pd.read_csv('test.csv')\n",
        "df_val = pd.read_csv('val.csv')\n",
        "\n",
        "print(df_train.shape)\n",
        "print(df_test.shape)\n",
        "print(df_val.shape)"
      ],
      "execution_count": 0,
      "outputs": [
        {
          "output_type": "stream",
          "text": [
            "(3000, 2)\n",
            "(3684, 2)\n",
            "(700, 2)\n"
          ],
          "name": "stdout"
        }
      ]
    },
    {
      "cell_type": "markdown",
      "metadata": {
        "id": "833jm3WD4xbN",
        "colab_type": "text"
      },
      "source": [
        "## Data Preprocessing"
      ]
    },
    {
      "cell_type": "markdown",
      "metadata": {
        "id": "rcWjn-F8a5Dp",
        "colab_type": "text"
      },
      "source": [
        "### Spliting"
      ]
    },
    {
      "cell_type": "code",
      "metadata": {
        "id": "ps16CY_KJzcq",
        "colab_type": "code",
        "outputId": "baa925ac-ce13-4213-d0c8-731447296947",
        "colab": {
          "base_uri": "https://localhost:8080/",
          "height": 235
        }
      },
      "source": [
        "print(df_train[:10])"
      ],
      "execution_count": 0,
      "outputs": [
        {
          "output_type": "stream",
          "text": [
            "                                            Sentence                                                NER\n",
            "0                                         -docstart-                                                  O\n",
            "1   eu rejects german call to boycott british lamb .                    I-ORG O I-MISC O O O I-MISC O O\n",
            "2                                    peter blackburn                                        I-PER I-PER\n",
            "3                                brussels 1996-08-22                                            I-LOC O\n",
            "4  the european commission said on thursday it di...  O I-ORG I-ORG O O O O O O I-MISC O O O O O I-M...\n",
            "5  germany 's representative to the european unio...  I-LOC O O O O I-ORG I-ORG O O O I-PER I-PER O ...\n",
            "6  \" we do n't support any such recommendation be...  O O O O O O O O O O O O O O O O O O O O I-ORG ...\n",
            "7  he said further scientific study was required ...  O O O O O O O O O O O O O O O O O O O O O O I-...\n",
            "8  he said a proposal last month by eu farm commi...  O O O O O O O I-ORG O O I-PER I-PER O O O O O ...\n",
            "9  fischler proposed eu-wide measures after repor...  I-PER O I-MISC O O O O I-LOC O I-LOC O O O O O...\n"
          ],
          "name": "stdout"
        }
      ]
    },
    {
      "cell_type": "code",
      "metadata": {
        "id": "Q3R45Lmk41K1",
        "colab_type": "code",
        "outputId": "fc7ce88a-696f-4a9b-ddf8-065acdab8b2f",
        "colab": {
          "base_uri": "https://localhost:8080/",
          "height": 71
        }
      },
      "source": [
        "import numpy as np\n",
        "\n",
        "def data_prep(data):\n",
        "  lines = [line.strip().split(' ') for line in data.iloc[:,0].tolist()]\n",
        "  tags = [tag.strip().split(' ') for tag in data.iloc[:,1].tolist()]\n",
        "\n",
        "  for i in range(len(lines)):\n",
        "    if len(lines[i]) != len(tags[i]):\n",
        "      print('Data Err!')\n",
        "      return\n",
        "\n",
        "  return lines, tags\n",
        "\n",
        "lines_train, tags_train = data_prep(df_train)\n",
        "lines_test = [line.strip().split(' ') for line in df_test.iloc[:,0].tolist()]\n",
        "lines_val, tags_val = data_prep(df_val)\n",
        "print(len(lines_train), len(tags_train))\n",
        "print(len(lines_val), len(tags_val))\n",
        "print(len(lines_test))"
      ],
      "execution_count": 0,
      "outputs": [
        {
          "output_type": "stream",
          "text": [
            "3000 3000\n",
            "700 700\n",
            "3684\n"
          ],
          "name": "stdout"
        }
      ]
    },
    {
      "cell_type": "markdown",
      "metadata": {
        "id": "VmljUoNka_SK",
        "colab_type": "text"
      },
      "source": [
        "## Input Embedding"
      ]
    },
    {
      "cell_type": "markdown",
      "metadata": {
        "id": "jlRm3sCYAO44",
        "colab_type": "text"
      },
      "source": [
        "### Word2Vec"
      ]
    },
    {
      "cell_type": "code",
      "metadata": {
        "id": "xjXUiOGruNzc",
        "colab_type": "code",
        "outputId": "d7652bd1-1051-4ac9-f5d3-0adf42b5c8f6",
        "colab": {
          "base_uri": "https://localhost:8080/",
          "height": 73
        }
      },
      "source": [
        "sentences = lines_train + lines_val + lines_test\n",
        "\n",
        "word_to_ix = {}\n",
        "for sentence in sentences:\n",
        "  for word in sentence:\n",
        "    if word not in word_to_ix:\n",
        "      word_to_ix[word] = len(word_to_ix)\n",
        "\n",
        "word_list = list(word_to_ix.keys())\n",
        "\n",
        "START_TAG = \"<START>\"\n",
        "STOP_TAG = \"<STOP>\"\n",
        "\n",
        "tag_to_ix = {START_TAG:0, STOP_TAG:1}\n",
        "for tags in tags_train + tags_val:\n",
        "  for tag in tags:\n",
        "    if tag not in tag_to_ix:\n",
        "      tag_to_ix[tag] = len(tag_to_ix)\n",
        "\n",
        "\n",
        "print(len(word_list))\n",
        "print(sentences[:10])"
      ],
      "execution_count": 0,
      "outputs": [
        {
          "output_type": "stream",
          "text": [
            "13972\n",
            "[['-docstart-'], ['eu', 'rejects', 'german', 'call', 'to', 'boycott', 'british', 'lamb', '.'], ['peter', 'blackburn'], ['brussels', '1996-08-22'], ['the', 'european', 'commission', 'said', 'on', 'thursday', 'it', 'disagreed', 'with', 'german', 'advice', 'to', 'consumers', 'to', 'shun', 'british', 'lamb', 'until', 'scientists', 'determine', 'whether', 'mad', 'cow', 'disease', 'can', 'be', 'transmitted', 'to', 'sheep', '.'], ['germany', \"'s\", 'representative', 'to', 'the', 'european', 'union', \"'s\", 'veterinary', 'committee', 'werner', 'zwingmann', 'said', 'on', 'wednesday', 'consumers', 'should', 'buy', 'sheepmeat', 'from', 'countries', 'other', 'than', 'britain', 'until', 'the', 'scientific', 'advice', 'was', 'clearer', '.'], ['\"', 'we', 'do', \"n't\", 'support', 'any', 'such', 'recommendation', 'because', 'we', 'do', \"n't\", 'see', 'any', 'grounds', 'for', 'it', ',', '\"', 'the', 'commission', \"'s\", 'chief', 'spokesman', 'nikolaus', 'van', 'der', 'pas', 'told', 'a', 'news', 'briefing', '.'], ['he', 'said', 'further', 'scientific', 'study', 'was', 'required', 'and', 'if', 'it', 'was', 'found', 'that', 'action', 'was', 'needed', 'it', 'should', 'be', 'taken', 'by', 'the', 'european', 'union', '.'], ['he', 'said', 'a', 'proposal', 'last', 'month', 'by', 'eu', 'farm', 'commissioner', 'franz', 'fischler', 'to', 'ban', 'sheep', 'brains', ',', 'spleens', 'and', 'spinal', 'cords', 'from', 'the', 'human', 'and', 'animal', 'food', 'chains', 'was', 'a', 'highly', 'specific', 'and', 'precautionary', 'move', 'to', 'protect', 'human', 'health', '.'], ['fischler', 'proposed', 'eu-wide', 'measures', 'after', 'reports', 'from', 'britain', 'and', 'france', 'that', 'under', 'laboratory', 'conditions', 'sheep', 'could', 'contract', 'bovine', 'spongiform', 'encephalopathy', '(', 'bse', ')', '--', 'mad', 'cow', 'disease', '.']]\n"
          ],
          "name": "stdout"
        }
      ]
    },
    {
      "cell_type": "code",
      "metadata": {
        "id": "FgZM1yZMbezp",
        "colab_type": "code",
        "outputId": "ddd8fbfb-3511-4aee-abff-b887c3d43a7c",
        "colab": {
          "base_uri": "https://localhost:8080/",
          "height": 71
        }
      },
      "source": [
        "import gensim.downloader as api\n",
        "word_emb_model = api.load(\"glove-twitter-50\") \n",
        "\n",
        "EMBEDDING_DIM = 50\n",
        "\n",
        "embedding_matrix = []\n",
        "for word in word_list:\n",
        "  try:\n",
        "    embedding_matrix.append(word_emb_model.wv[word])\n",
        "  except:\n",
        "    embedding_matrix.append([0]*EMBEDDING_DIM)\n",
        "\n",
        "embedding_matrix = np.array(embedding_matrix)\n",
        "print(embedding_matrix.shape)"
      ],
      "execution_count": 0,
      "outputs": [
        {
          "output_type": "stream",
          "text": [
            "[=================================================-] 98.8% 197.1/199.5MB downloaded(13972, 50)\n"
          ],
          "name": "stdout"
        },
        {
          "output_type": "stream",
          "text": [
            "/usr/local/lib/python3.6/dist-packages/ipykernel_launcher.py:9: DeprecationWarning: Call to deprecated `wv` (Attribute will be removed in 4.0.0, use self instead).\n",
            "  if __name__ == '__main__':\n"
          ],
          "name": "stderr"
        }
      ]
    },
    {
      "cell_type": "code",
      "metadata": {
        "id": "0_q4H8a1olEQ",
        "colab_type": "code",
        "colab": {}
      },
      "source": [
        "def to_index(data, to_ix):\n",
        "    input_index_list = []\n",
        "    for sent in data:\n",
        "        input_index_list.append([to_ix[w] for w in sent])\n",
        "    return input_index_list\n",
        "\n",
        "train_input_index =  to_index(lines_train,word_to_ix)\n",
        "train_output_index = to_index(tags_train,tag_to_ix)\n",
        "val_input_index = to_index(lines_val,word_to_ix)\n",
        "val_output_index = to_index(tags_val,tag_to_ix)\n",
        "test_input_index = to_index(lines_test,word_to_ix)"
      ],
      "execution_count": 0,
      "outputs": []
    },
    {
      "cell_type": "markdown",
      "metadata": {
        "id": "9S6gEKuKAXPl",
        "colab_type": "text"
      },
      "source": [
        "### POS Tags"
      ]
    },
    {
      "cell_type": "code",
      "metadata": {
        "id": "ZkQDHJKJBIUj",
        "colab_type": "code",
        "outputId": "de9d9a70-aee9-4965-aa83-8d5a10600633",
        "colab": {
          "base_uri": "https://localhost:8080/",
          "height": 71
        }
      },
      "source": [
        "import nltk\n",
        "nltk.download('averaged_perceptron_tagger')\n",
        "\n",
        "from nltk import word_tokenize\n",
        "from sklearn.preprocessing import MinMaxScaler\n",
        "\n",
        "#get pos-tag and sentences\n",
        "pos_tag_sentences = []\n",
        "for word in sentences:\n",
        "   pos_tag_sentences.append(nltk.pos_tag(word))\n",
        "\n",
        "#get pos-tag\n",
        "sentence_tags=[]\n",
        "for tagged in pos_tag_sentences:\n",
        "  tmp= []\n",
        "  for i in tagged:\n",
        "    tmp.append(i[1])\n",
        "  sentence_tags.append(tmp)\n",
        "\n",
        "#create sentence tag dictionary\n",
        "sentence_tags_set =list(set([i for item in sentence_tags for i in item]))\n",
        "tag2index = {w : i+2 for i,w in enumerate(sentence_tags_set)}\n",
        "# tag2index['0'] = 0\n",
        "\n",
        "\n",
        "#get all sentence tags\n",
        "final_tagged = []\n",
        "for tags in sentence_tags:\n",
        "  tmp= []\n",
        "  for i in tags:\n",
        "    tmp.append(tag2index[i])\n",
        "  final_tagged.append(tmp)\n",
        "#padding\n",
        "tag_pad = []\n",
        "for tag in final_tagged:\n",
        "  tag_pad.append([0]*(124-(len(tag)))+tag)\n",
        "tag_pad = np.array(tag_pad , dtype='float64')\n",
        "\n",
        "#MinMaxScaler\n",
        "scaler_tag_range = MinMaxScaler(feature_range=(0,1))\n",
        "scaled_tag = scaler_tag_range.fit_transform(tag_pad)\n",
        "# print(scaled_tag[5])\n",
        "#get final get minmaxScaler in each sentence\n",
        "mv_zero_scaler  = scaled_tag.tolist()\n",
        "tagger_train = []\n",
        "tagger_val = []\n",
        "tagger_test =[]\n",
        "\n",
        "for i in range(len(mv_zero_scaler)):\n",
        "  tmp =[]\n",
        "  for j in mv_zero_scaler[i]:\n",
        "    if j != 0:\n",
        "      tmp.append([j])\n",
        "  if len(tmp)< len(final_tagged[i]):\n",
        "    tmp.append([0.0]*(len(final_tagged[i])-(len(tmp))))\n",
        "  if i <3000:\n",
        "    tagger_train.append(tmp)\n",
        "  if 3000<= i <3700:\n",
        "    tagger_val.append(tmp)\n",
        "  if i>=3700:\n",
        "    tagger_test.append(tmp)\n",
        "\n",
        "# tagger_train\n",
        "#tagger_val\n",
        "#tagger_test\n"
      ],
      "execution_count": 0,
      "outputs": [
        {
          "output_type": "stream",
          "text": [
            "[nltk_data] Downloading package averaged_perceptron_tagger to\n",
            "[nltk_data]     /root/nltk_data...\n",
            "[nltk_data]   Unzipping taggers/averaged_perceptron_tagger.zip.\n"
          ],
          "name": "stdout"
        }
      ]
    },
    {
      "cell_type": "markdown",
      "metadata": {
        "id": "LSxNHDLSAd2m",
        "colab_type": "text"
      },
      "source": [
        "### TFIDF"
      ]
    },
    {
      "cell_type": "code",
      "metadata": {
        "id": "fjwmE_qKBmCR",
        "colab_type": "code",
        "colab": {}
      },
      "source": [
        "from collections import Counter\n",
        "import math\n",
        "def get_tf_and_idf(tokenized_docs):\n",
        "    result =[]\n",
        "    N = len(tokenized_docs) \n",
        "    # Calaulating document frequency for each word\n",
        "    DF = {}\n",
        "    for tokenized_doc in tokenized_docs:\n",
        "        # get each unique word in the doc - we need to know whether the word is appeared in the document\n",
        "        for term in np.unique(tokenized_doc):\n",
        "            try:\n",
        "                DF[term] +=1\n",
        "            except:\n",
        "                DF[term] =1\n",
        "    # Calculating tf, tf-idf\n",
        "    tf_idf_dict = {}\n",
        "    tf_dict = {}\n",
        "    doc_id = 0\n",
        "    for tokenized_doc in tokenized_docs:\n",
        "        # initialise counter for the doc\n",
        "        counter = Counter(tokenized_doc)\n",
        "        # calculate total number of words in the doc\n",
        "        total_num_words = len(tokenized_doc)  \n",
        "        # get each unique word in the doc\n",
        "        for term in np.unique(tokenized_doc):\n",
        "            #calculate Term Frequency \n",
        "            tf = counter[term]/total_num_words\n",
        "            tf_dict[doc_id, term] = tf         \n",
        "            #calculate Document Frequency\n",
        "            df = DF[term]\n",
        "            # calculate Inverse Document Frequency\n",
        "            idf = math.log(N/(df+1))+1\n",
        "            # calculate TF-IDF\n",
        "            tf_idf_dict[term] = tf*idf\n",
        "        doc_id += 1\n",
        "    for i in tokenized_docs:\n",
        "      tmp=[]\n",
        "      for j in i:\n",
        "        tmp.append([tf_idf_dict[j]])\n",
        "      result.append(tmp)\n",
        "    return result\n",
        "\n",
        "tf_idf_train =get_tf_and_idf(lines_train)\n",
        "tf_idf_val =get_tf_and_idf(lines_val)\n",
        "tf_idf_test=get_tf_and_idf(lines_test)"
      ],
      "execution_count": 0,
      "outputs": []
    },
    {
      "cell_type": "markdown",
      "metadata": {
        "id": "7viDMDW8yqao",
        "colab_type": "text"
      },
      "source": [
        "## Named Entity Recongnition"
      ]
    },
    {
      "cell_type": "markdown",
      "metadata": {
        "id": "gS03I2s2y4g5",
        "colab_type": "text"
      },
      "source": [
        "### Model Design"
      ]
    },
    {
      "cell_type": "code",
      "metadata": {
        "id": "DW1wGCo7y8C8",
        "colab_type": "code",
        "colab": {}
      },
      "source": [
        "import torch\n",
        "import torch.nn as nn\n",
        "from torch.autograd import Variable\n",
        "from torch.nn import functional as F\n",
        "import torch.autograd as autograd\n",
        "import torch.optim as optim\n",
        "import numpy as np\n",
        "\n",
        "torch.manual_seed(1)\n",
        "\n",
        "def argmax(vec):\n",
        "    # return the argmax as a python int\n",
        "    _, idx = torch.max(vec, 1)\n",
        "    return idx.item()\n",
        "\n",
        "\n",
        "# Compute log sum exp in a numerically stable way for the forward algorithm\n",
        "def log_sum_exp(vec):\n",
        "    max_score = vec[0, argmax(vec)]\n",
        "    max_score_broadcast = max_score.view(1, -1).expand(1, vec.size()[1])\n",
        "    return max_score + \\\n",
        "        torch.log(torch.sum(torch.exp(vec - max_score_broadcast)))\n",
        "\n",
        "class BiLSTM_Attn(nn.Module):\n",
        "    ATTN_TYPE_DOT = \"Dot\"\n",
        "    ATTN_TYPE_CONCAT = \"CONCAT\"\n",
        "\n",
        "    def __init__(self, vocab_size, embedding_dim, tag_to_ix, hidden_dim, num_layers, attn_type):\n",
        "        super(BiLSTM_Attn, self).__init__()\n",
        "        self.embedding_dim = embedding_dim\n",
        "        self.hidden_dim    = hidden_dim\n",
        "        self.vocab_size = vocab_size\n",
        "        self.num_layers    = num_layers\n",
        "        self.tag_to_ix = tag_to_ix\n",
        "        self.tagset_size = len(tag_to_ix)\n",
        "        self.attn_type = attn_type\n",
        "\n",
        "        self.word_embeds = nn.Embedding(vocab_size, embedding_dim)\n",
        "        self.word_embeds.weight.data.copy_(torch.from_numpy(embedding_matrix))\n",
        "\n",
        "        self.lstm = nn.LSTM(\n",
        "                    embedding_dim+2, hidden_dim,\n",
        "                    num_layers = self.num_layers,\n",
        "                    bidirectional=True)\n",
        "\n",
        "        self.hidden2tag = nn.Linear(hidden_dim * 2, self.tagset_size)\n",
        "\n",
        "        # Matrix of transition parameters.  Entry i,j is the score of\n",
        "        # transitioning *to* i *from* j.\n",
        "        self.transitions = nn.Parameter(\n",
        "            torch.randn(self.tagset_size, self.tagset_size))\n",
        "\n",
        "        # These two statements enforce the constraint that we never transfer\n",
        "        # to the start tag and we never transfer from the stop tag\n",
        "        self.transitions.data[tag_to_ix[START_TAG], :] = -10000\n",
        "        self.transitions.data[:, tag_to_ix[STOP_TAG]] = -10000\n",
        "\n",
        "        self.hidden = self.init_hidden()\n",
        "\n",
        "    def init_hidden(self):\n",
        "        return (torch.randn(self.num_layers * 2, 1, self.hidden_dim).to(device),\n",
        "                torch.randn(self.num_layers * 2, 1, self.hidden_dim).to(device))\n",
        "    \n",
        "    def make_comb_feats(self, sentence, tfidfs, pos_tags):\n",
        "        embeds = self.word_embeds(sentence).view(len(sentence), -1)\n",
        "        #print(embeds.shape, tfidfs.shape, pos_tags.shape)\n",
        "        embeds = torch.cat((embeds, tfidfs, pos_tags), 1)\n",
        "\n",
        "        return embeds\n",
        "\n",
        "    def get_lstm_feats(self, embeds):\n",
        "        self.hidden = self.init_hidden()\n",
        "        embeds = embeds.view(len(embeds), 1, -1)\n",
        "        lstm_out, self.hidden = self.lstm(embeds, self.hidden)\n",
        "\n",
        "        return lstm_out\n",
        "        \n",
        "    def attention(self, lstm_output):\n",
        "        lstm_output_t = lstm_output[:,:,-2*self.hidden_dim:].transpose(1, 2)\n",
        "        attn_weight = torch.cat((self.hidden[0][-2].view(1,self.hidden_dim), self.hidden[0][-1].view(1,self.hidden_dim)), 1)\n",
        "        #print(lstm_output.shape, attn_weight.shape)\n",
        "\n",
        "        if self.attn_type == self.ATTN_TYPE_CONCAT:\n",
        "            M = torch.tanh(lstm_output_t)\n",
        "            a = F.softmax(torch.matmul(M, attn_weight), 2)\n",
        "            #print(a.shape, lstm_output.shape)\n",
        "            # print(lstm_output.shape, a.shape)\n",
        "            attn_output = torch.bmm(lstm_output, a)\n",
        "\n",
        "        elif self.attn_type == self.ATTN_TYPE_DOT:\n",
        "            H = F.softmax(torch.matmul(lstm_output_t, attn_weight), -1)\n",
        "            # print(lstm_output.shape, H.shape)\n",
        "            attn_output = torch.bmm(lstm_output, H)\n",
        "\n",
        "        return attn_output\n",
        "    \n",
        "    def _forward_alg(self, feats):\n",
        "        # Do the forward algorithm to compute the partition function\n",
        "        init_alphas = torch.full((1, self.tagset_size), -10000.).to(device)\n",
        "        # START_TAG has all of the score.\n",
        "        init_alphas[0][self.tag_to_ix[START_TAG]] = 0.\n",
        "\n",
        "        # Wrap in a variable so that we will get automatic backprop\n",
        "        forward_var = init_alphas\n",
        "\n",
        "        # Iterate through the sentence\n",
        "        for feat in feats:\n",
        "            alphas_t = []  # The forward tensors at this timestep\n",
        "            for next_tag in range(self.tagset_size):\n",
        "                # broadcast the emission score: it is the same regardless of\n",
        "                # the previous tag\n",
        "                emit_score = feat[next_tag].view(\n",
        "                    1, -1).expand(1, self.tagset_size)\n",
        "                # the ith entry of trans_score is the score of transitioning to\n",
        "                # next_tag from i\n",
        "                trans_score = self.transitions[next_tag].view(1, -1)\n",
        "                # The ith entry of next_tag_var is the value for the\n",
        "                # edge (i -> next_tag) before we do log-sum-exp\n",
        "                next_tag_var = forward_var + trans_score + emit_score\n",
        "                # The forward variable for this tag is log-sum-exp of all the\n",
        "                # scores.\n",
        "                alphas_t.append(log_sum_exp(next_tag_var).view(1))\n",
        "            forward_var = torch.cat(alphas_t).view(1, -1)\n",
        "        terminal_var = forward_var + self.transitions[self.tag_to_ix[STOP_TAG]]\n",
        "        alpha = log_sum_exp(terminal_var)\n",
        "        return alpha\n",
        "\n",
        "    def _score_sentence(self, feats, tags):\n",
        "        # Gives the score of a provided tag sequence\n",
        "        score = torch.zeros(1).to(device)\n",
        "        tags = torch.cat([torch.tensor([self.tag_to_ix[START_TAG]], dtype=torch.long).to(device), tags])\n",
        "        for i, feat in enumerate(feats):\n",
        "            score = score + \\\n",
        "                self.transitions[tags[i + 1], tags[i]] + feat[tags[i + 1]]\n",
        "        score = score + self.transitions[self.tag_to_ix[STOP_TAG], tags[-1]]\n",
        "        return score\n",
        "\n",
        "    def _viterbi_decode(self, feats):\n",
        "        backpointers = []\n",
        "\n",
        "        # Initialize the viterbi variables in log space\n",
        "        init_vvars = torch.full((1, self.tagset_size), -10000.).to(device)\n",
        "        init_vvars[0][self.tag_to_ix[START_TAG]] = 0\n",
        "\n",
        "        # forward_var at step i holds the viterbi variables for step i-1\n",
        "        forward_var = init_vvars\n",
        "        for feat in feats:\n",
        "            bptrs_t = []  # holds the backpointers for this step\n",
        "            viterbivars_t = []  # holds the viterbi variables for this step\n",
        "\n",
        "            for next_tag in range(self.tagset_size):\n",
        "                # next_tag_var[i] holds the viterbi variable for tag i at the\n",
        "                # previous step, plus the score of transitioning\n",
        "                # from tag i to next_tag.\n",
        "                # We don't include the emission scores here because the max\n",
        "                # does not depend on them (we add them in below)\n",
        "                next_tag_var = forward_var + self.transitions[next_tag]\n",
        "                best_tag_id = argmax(next_tag_var)\n",
        "                bptrs_t.append(best_tag_id)\n",
        "                viterbivars_t.append(next_tag_var[0][best_tag_id].view(1))\n",
        "            # Now add in the emission scores, and assign forward_var to the set\n",
        "            # of viterbi variables we just computed\n",
        "            forward_var = (torch.cat(viterbivars_t) + feat).view(1, -1)\n",
        "            backpointers.append(bptrs_t)\n",
        "\n",
        "        # Transition to STOP_TAG\n",
        "        terminal_var = forward_var + self.transitions[self.tag_to_ix[STOP_TAG]]\n",
        "        best_tag_id = argmax(terminal_var)\n",
        "        path_score = terminal_var[0][best_tag_id]\n",
        "\n",
        "        # Follow the back pointers to decode the best path.\n",
        "        best_path = [best_tag_id]\n",
        "        for bptrs_t in reversed(backpointers):\n",
        "            best_tag_id = bptrs_t[best_tag_id]\n",
        "            best_path.append(best_tag_id)\n",
        "        # Pop off the start tag (we dont want to return that to the caller)\n",
        "        start = best_path.pop()\n",
        "        assert start == self.tag_to_ix[START_TAG]  # Sanity check\n",
        "        best_path.reverse()\n",
        "        return path_score, best_path\n",
        "\n",
        "    def neg_log_likelihood(self, sentence, tfidfs, pos_tags, tags):\n",
        "        embeds = self.make_comb_feats(sentence, tfidfs, pos_tags)\n",
        "        lstm_output = self.get_lstm_feats(embeds)\n",
        "        attn_output = self.attention(lstm_output)\n",
        "        attn_feats = self.hidden2tag(attn_output).view(len(sentence), self.tagset_size)\n",
        "        forward_score = self._forward_alg(attn_feats)\n",
        "        gold_score = self._score_sentence(attn_feats, tags)\n",
        "        return forward_score - gold_score\n",
        "\n",
        "    def forward(self, sentence, tfidfs, pos_tags):\n",
        "        embeds = self.make_comb_feats(sentence, tfidfs, pos_tags)\n",
        "        lstm_output = self.get_lstm_feats(embeds)\n",
        "        attn_output = self.attention(lstm_output)\n",
        "        attn_feats = self.hidden2tag(attn_output).view(len(sentence), self.tagset_size)\n",
        "        score, tag_seq = self._viterbi_decode(attn_feats)\n",
        "\n",
        "        return tag_seq"
      ],
      "execution_count": 0,
      "outputs": []
    },
    {
      "cell_type": "code",
      "metadata": {
        "id": "mkKi9tAnaNwA",
        "colab_type": "code",
        "colab": {}
      },
      "source": [
        "device = torch.device(\"cuda\" if torch.cuda.is_available() else \"cpu\")\n",
        "HIDDEN_DIM = 100"
      ],
      "execution_count": 0,
      "outputs": []
    },
    {
      "cell_type": "markdown",
      "metadata": {
        "id": "t8FknnIoAn1j",
        "colab_type": "text"
      },
      "source": [
        "### Accuracy Calculation"
      ]
    },
    {
      "cell_type": "code",
      "metadata": {
        "id": "CCYYwEVbaKoY",
        "colab_type": "code",
        "colab": {}
      },
      "source": [
        "import numpy as np\n",
        "def cal_acc(model, input_index, input_tfidfs, input_pos_tags, output_index):\n",
        "    acc = 0\n",
        "    total = 0\n",
        "    ground_truth = []\n",
        "    predicted = []\n",
        "    for i, idxs in enumerate(input_index):\n",
        "        tags_index = output_index[i]\n",
        "        sentence_in = torch.tensor(idxs, dtype=torch.long).to(device)\n",
        "        tfidfs = torch.tensor(input_tfidfs[i], dtype=torch.float).to(device)\n",
        "        pos_tags = torch.tensor(input_pos_tags[i], dtype=torch.float).to(device)\n",
        "        targets = torch.tensor(tags_index, dtype=torch.long).to(device)\n",
        "        pred = model.forward(sentence_in, tfidfs, pos_tags)\n",
        "        # print(pred)\n",
        "        # print(tags_index)\n",
        "        for j in range(len(pred)):\n",
        "            if pred[j] == tags_index[j]:\n",
        "                acc+=1\n",
        "        total += len(pred)\n",
        "    \n",
        "    accuracy = acc / total\n",
        "    return accuracy"
      ],
      "execution_count": 0,
      "outputs": []
    },
    {
      "cell_type": "markdown",
      "metadata": {
        "id": "enT_BQDuAvUO",
        "colab_type": "text"
      },
      "source": [
        "### Hyperparameters Evaluation\n",
        "Different layer design and attention methods"
      ]
    },
    {
      "cell_type": "code",
      "metadata": {
        "id": "teQ79_U8aP17",
        "colab_type": "code",
        "outputId": "ed7dde90-a0b1-4781-cba9-df2f5e804dc9",
        "colab": {
          "base_uri": "https://localhost:8080/",
          "height": 737
        }
      },
      "source": [
        "import datetime\n",
        "\n",
        "configs = [\n",
        "    {\n",
        "        'nlayer':1,\n",
        "        'attn_type':'Dot',\n",
        "        'train_losses':[],\n",
        "        'val_losses':[],\n",
        "        'train_acc':[],\n",
        "        'val_acc':[]\n",
        "    },\n",
        "    {\n",
        "        'nlayer':1,\n",
        "        'attn_type':'CONCAT',\n",
        "        'train_losses':[],\n",
        "        'val_losses':[],\n",
        "        'train_acc':[],\n",
        "        'val_acc':[]\n",
        "    },\n",
        "    {\n",
        "        'nlayer':2,\n",
        "        'attn_type':'Dot',\n",
        "        'train_losses':[],\n",
        "        'val_losses':[],\n",
        "        'train_acc':[],\n",
        "        'val_acc':[]\n",
        "    },\n",
        "    {\n",
        "        'nlayer':2,\n",
        "        'attn_type':'CONCAT',\n",
        "        'train_losses':[],\n",
        "        'val_losses':[],\n",
        "        'train_acc':[],\n",
        "        'val_acc':[]\n",
        "    }\n",
        "\n",
        "]\n",
        "\n",
        "\n",
        "for config in configs:\n",
        "\n",
        "  model = BiLSTM_Attn(len(word_to_ix), EMBEDDING_DIM, tag_to_ix, HIDDEN_DIM, config['nlayer'], config['attn_type']).to(device)\n",
        "  optimizer = optim.SGD(model.parameters(), lr=0.01, weight_decay=1e-4)\n",
        "  # scheduler = torch.optim.lr_scheduler.StepLR(optimizer, 1, gamma=0.95)\n",
        "  \n",
        "\n",
        "  for epoch in range(10):  \n",
        "      time1 = datetime.datetime.now()\n",
        "      train_loss = 0\n",
        "\n",
        "      model.train()\n",
        "      for i, idxs in enumerate(train_input_index):\n",
        "          # Step 1. Remember that Pytorch accumulates gradients.\n",
        "          # We need to clear them out before each instance\n",
        "          model.zero_grad()\n",
        "\n",
        "          # Step 2. Get our inputs ready for the network, that is,\n",
        "          # turn them into Tensors of word indices.\n",
        "          sentence_in = torch.tensor(idxs, dtype=torch.long).to(device)\n",
        "          tfidfs = torch.tensor(tf_idf_train[i], dtype=torch.float).to(device)\n",
        "          pos_tags = torch.tensor(tagger_train[i], dtype=torch.float).to(device)\n",
        "          targets = torch.tensor(train_output_index[i], dtype=torch.long).to(device)\n",
        "\n",
        "          # Step 3. Run our forward pass.\n",
        "          loss = model.neg_log_likelihood(sentence_in, tfidfs, pos_tags, targets)\n",
        "\n",
        "          # Step 4. Compute the loss, gradients, and update the parameters by\n",
        "          # calling optimizer.step()\n",
        "          loss.backward()\n",
        "          optimizer.step()\n",
        "          # scheduler.step()\n",
        "\n",
        "\n",
        "          train_loss+=loss.item()\n",
        "      config['train_losses'].append(train_loss)\n",
        "\n",
        "      model.eval()\n",
        "      train_acc = cal_acc(model, train_input_index, tf_idf_train, tagger_train, train_output_index)\n",
        "      val_acc = cal_acc(model, val_input_index, tf_idf_val, tagger_val, val_output_index)\n",
        "      config['train_acc'].append(train_acc)\n",
        "      config['val_acc'].append(val_acc)\n",
        "\n",
        "\n",
        "      val_loss = 0\n",
        "      for i, idxs in enumerate(val_input_index):\n",
        "          tags_index = val_output_index[i]\n",
        "          sentence_in = torch.tensor(idxs, dtype=torch.long).to(device)\n",
        "          tfidfs = torch.tensor(tf_idf_val[i], dtype=torch.float).to(device)\n",
        "          pos_tags = torch.tensor(tagger_val[i], dtype=torch.float).to(device)\n",
        "          targets = torch.tensor(tags_index, dtype=torch.long).to(device)\n",
        "          loss = model.neg_log_likelihood(sentence_in, tfidfs, pos_tags, targets)\n",
        "          val_loss+=loss.item()\n",
        "\n",
        "      config['val_losses'].append(val_loss)\n",
        "      time2 = datetime.datetime.now()\n",
        "\n",
        "      print(\"Epoch:%d, Training loss: %.2f, train acc: %.4f, val loss: %.2f, val acc: %.4f, time: %.2fs\" %(epoch+1, train_loss,train_acc, val_loss, val_acc, (time2-time1).total_seconds()))\n"
      ],
      "execution_count": 0,
      "outputs": [
        {
          "output_type": "stream",
          "text": [
            "Epoch:1, Training loss: 15519.07, train acc: 0.8747, val loss: 2699.54, val acc: 0.8626, time: 192.25s\n",
            "Epoch:2, Training loss: 10285.27, train acc: 0.8950, val loss: 2245.51, val acc: 0.8823, time: 187.28s\n",
            "Epoch:3, Training loss: 8785.57, train acc: 0.9059, val loss: 2010.56, val acc: 0.8957, time: 184.84s\n",
            "Epoch:4, Training loss: 7524.60, train acc: 0.9201, val loss: 1782.53, val acc: 0.9096, time: 184.97s\n",
            "Epoch:5, Training loss: 6284.20, train acc: 0.9324, val loss: 1634.22, val acc: 0.9165, time: 184.95s\n",
            "Epoch:6, Training loss: 5230.53, train acc: 0.9414, val loss: 1540.81, val acc: 0.9236, time: 184.03s\n",
            "Epoch:7, Training loss: 4464.24, train acc: 0.9488, val loss: 1514.05, val acc: 0.9264, time: 183.17s\n",
            "Epoch:8, Training loss: 3876.02, train acc: 0.9535, val loss: 1573.73, val acc: 0.9272, time: 183.00s\n",
            "Epoch:9, Training loss: 3384.93, train acc: 0.9568, val loss: 1658.61, val acc: 0.9287, time: 182.02s\n",
            "Epoch:10, Training loss: 2983.75, train acc: 0.9596, val loss: 1689.53, val acc: 0.9313, time: 182.22s\n",
            "Epoch:1, Training loss: 14988.98, train acc: 0.8717, val loss: 2646.97, val acc: 0.8516, time: 182.24s\n",
            "Epoch:2, Training loss: 10211.37, train acc: 0.8967, val loss: 2243.15, val acc: 0.8866, time: 181.87s\n",
            "Epoch:3, Training loss: 8769.71, train acc: 0.9071, val loss: 2028.82, val acc: 0.8957, time: 182.08s\n",
            "Epoch:4, Training loss: 7617.80, train acc: 0.9178, val loss: 1872.99, val acc: 0.9039, time: 184.49s\n",
            "Epoch:5, Training loss: 6521.24, train acc: 0.9283, val loss: 1705.79, val acc: 0.9103, time: 185.93s\n",
            "Epoch:6, Training loss: 5482.26, train acc: 0.9371, val loss: 1661.88, val acc: 0.9189, time: 184.50s\n",
            "Epoch:7, Training loss: 4597.98, train acc: 0.9450, val loss: 1620.08, val acc: 0.9217, time: 184.09s\n",
            "Epoch:8, Training loss: 4005.52, train acc: 0.9534, val loss: 1638.20, val acc: 0.9236, time: 184.03s\n",
            "Epoch:9, Training loss: 3505.16, train acc: 0.9559, val loss: 1693.07, val acc: 0.9234, time: 183.54s\n",
            "Epoch:10, Training loss: 3086.78, train acc: 0.9558, val loss: 1895.36, val acc: 0.9242, time: 182.29s\n",
            "Epoch:1, Training loss: 18845.18, train acc: 0.8553, val loss: 3075.01, val acc: 0.8186, time: 188.35s\n",
            "Epoch:2, Training loss: 10937.13, train acc: 0.8770, val loss: 2417.59, val acc: 0.8552, time: 187.65s\n",
            "Epoch:3, Training loss: 9015.80, train acc: 0.8883, val loss: 2227.90, val acc: 0.8600, time: 187.68s\n",
            "Epoch:4, Training loss: 7770.82, train acc: 0.9004, val loss: 2171.33, val acc: 0.8703, time: 187.39s\n",
            "Epoch:5, Training loss: 6783.87, train acc: 0.9129, val loss: 2138.75, val acc: 0.8823, time: 187.32s\n",
            "Epoch:6, Training loss: 6111.39, train acc: 0.9124, val loss: 2200.19, val acc: 0.8765, time: 186.32s\n",
            "Epoch:7, Training loss: 5532.59, train acc: 0.9227, val loss: 2281.19, val acc: 0.8822, time: 186.90s\n",
            "Epoch:8, Training loss: 4967.08, train acc: 0.9310, val loss: 2286.03, val acc: 0.8935, time: 186.46s\n",
            "Epoch:9, Training loss: 4520.27, train acc: 0.9366, val loss: 2336.66, val acc: 0.8966, time: 190.62s\n",
            "Epoch:10, Training loss: 4065.25, train acc: 0.9478, val loss: 2310.32, val acc: 0.9117, time: 186.95s\n",
            "Epoch:1, Training loss: 20384.24, train acc: 0.8509, val loss: 3174.20, val acc: 0.8141, time: 186.54s\n",
            "Epoch:2, Training loss: 11267.25, train acc: 0.8784, val loss: 2442.12, val acc: 0.8564, time: 185.55s\n",
            "Epoch:3, Training loss: 9251.41, train acc: 0.8908, val loss: 2207.01, val acc: 0.8670, time: 186.95s\n",
            "Epoch:4, Training loss: 7922.97, train acc: 0.8977, val loss: 2138.36, val acc: 0.8708, time: 189.21s\n",
            "Epoch:5, Training loss: 6945.72, train acc: 0.9068, val loss: 2139.55, val acc: 0.8733, time: 187.64s\n",
            "Epoch:6, Training loss: 6190.77, train acc: 0.9180, val loss: 2117.89, val acc: 0.8854, time: 187.05s\n",
            "Epoch:7, Training loss: 5624.10, train acc: 0.9241, val loss: 2126.01, val acc: 0.8882, time: 186.97s\n",
            "Epoch:8, Training loss: 5098.17, train acc: 0.9310, val loss: 2131.36, val acc: 0.8944, time: 186.97s\n",
            "Epoch:9, Training loss: 4639.83, train acc: 0.9359, val loss: 2161.23, val acc: 0.9015, time: 186.53s\n",
            "Epoch:10, Training loss: 4259.08, train acc: 0.9415, val loss: 2288.61, val acc: 0.9043, time: 187.77s\n"
          ],
          "name": "stdout"
        }
      ]
    },
    {
      "cell_type": "markdown",
      "metadata": {
        "id": "_BDauVBp_G5T",
        "colab_type": "text"
      },
      "source": [
        "Single Layered BiLSTM with different attention methods"
      ]
    },
    {
      "cell_type": "code",
      "metadata": {
        "id": "cwoQy3bK8txG",
        "colab_type": "code",
        "outputId": "edee6195-79f5-476b-a8df-2a2579313922",
        "colab": {
          "base_uri": "https://localhost:8080/",
          "height": 295
        }
      },
      "source": [
        "import matplotlib.pyplot as plt\n",
        "\n",
        "plt.title('The Loss of Train and Validation')\n",
        "plt.ylabel('Loss')\n",
        "plt.xlabel('Number of epochs')\n",
        "\n",
        "\n",
        "for config in configs[:2]:\n",
        "  epochs = [i+1 for i in range(len(config['val_losses']))]\n",
        "  train_losses = config['train_losses']\n",
        "  val_losses = config['val_losses']\n",
        "  # plt.plot(epochs,val_losses,label = 'Validation Loss of Attention Type {}'.format(config['attn_type']))\n",
        "  plt.plot(epochs,train_losses,label = 'Train Loss of Attention Type {}'.format(config['attn_type']))\n",
        "\n",
        "plt.legend()\n",
        "plt.show()\n",
        "# plt.subplots(figsize=(16,6))\n",
        "# print(configs[0]['val_losses'])"
      ],
      "execution_count": 0,
      "outputs": [
        {
          "output_type": "display_data",
          "data": {
            "image/png": "[encoded data removed]",
            "text/plain": [
              "<Figure size 432x288 with 1 Axes>"
            ]
          },
          "metadata": {
            "tags": [],
            "needs_background": "light"
          }
        }
      ]
    },
    {
      "cell_type": "code",
      "metadata": {
        "id": "EmQrcTZVOsRT",
        "colab_type": "code",
        "outputId": "ecee0032-d5b3-4797-a33c-8c6b2177a0bc",
        "colab": {
          "base_uri": "https://localhost:8080/",
          "height": 295
        }
      },
      "source": [
        "plt.title('The Performance of Train and Validation')\n",
        "plt.ylabel('Accuracy')\n",
        "plt.xlabel('Number of epochs')\n",
        "\n",
        "for config in configs[:2]:\n",
        "  epochs = [i+1 for i in range(len(config['train_acc']))]\n",
        "  train_acc = config['train_acc']\n",
        "  val_acc = config['val_acc']\n",
        "  # plt.plot(epochs, train_acc,label = 'The Performance of Train Attention Type {}'.format(config['attn_type']))\n",
        "  plt.plot(epochs, val_acc,label = 'The Performance of Validation and Attention Type {}'.format(config['attn_type']))\n",
        "\n",
        "\n",
        "plt.legend()\n",
        "plt.show()"
      ],
      "execution_count": 0,
      "outputs": [
        {
          "output_type": "display_data",
          "data": {
            "image/png": "[encoded data removed]",
            "text/plain": [
              "<Figure size 432x288 with 1 Axes>"
            ]
          },
          "metadata": {
            "tags": [],
            "needs_background": "light"
          }
        }
      ]
    },
    {
      "cell_type": "markdown",
      "metadata": {
        "id": "I3MtnJDq_k4z",
        "colab_type": "text"
      },
      "source": [
        "Double Layered BiLSTM with different attention methods"
      ]
    },
    {
      "cell_type": "code",
      "metadata": {
        "id": "yKYKpV-Rmiqp",
        "colab_type": "code",
        "outputId": "eb383046-7d7c-4c94-8130-16c37bb41f46",
        "colab": {
          "base_uri": "https://localhost:8080/",
          "height": 295
        }
      },
      "source": [
        "plt.title('The Loss of Train and Validation')\n",
        "plt.ylabel('Loss')\n",
        "plt.xlabel('Number of epochs')\n",
        "\n",
        "\n",
        "for config in configs[2:]:\n",
        "  epochs = [i+1 for i in range(len(config['val_losses']))]\n",
        "  train_losses = config['train_losses']\n",
        "  val_losses = config['val_losses']\n",
        "  # plt.plot(epochs,val_losses,label = 'Validation Loss of Attention Type {}'.format(config['attn_type']))\n",
        "  plt.plot(epochs,train_losses,label = 'Train Loss of Attention Type {}'.format(config['attn_type']))\n",
        "\n",
        "plt.legend()\n",
        "plt.show()"
      ],
      "execution_count": 0,
      "outputs": [
        {
          "output_type": "display_data",
          "data": {
            "image/png": "[encoded data removed]",
            "text/plain": [
              "<Figure size 432x288 with 1 Axes>"
            ]
          },
          "metadata": {
            "tags": [],
            "needs_background": "light"
          }
        }
      ]
    },
    {
      "cell_type": "code",
      "metadata": {
        "id": "d7rtM6OGmo62",
        "colab_type": "code",
        "outputId": "8284e96a-c692-4764-ae5b-3cf6f2fe7fd8",
        "colab": {
          "base_uri": "https://localhost:8080/",
          "height": 295
        }
      },
      "source": [
        "plt.title('The Performance of Train and Validation')\n",
        "plt.ylabel('Accuracy')\n",
        "plt.xlabel('Number of epochs')\n",
        "\n",
        "for config in configs[2:]:\n",
        "  epochs = [i+1 for i in range(len(config['train_acc']))]\n",
        "  train_acc = config['train_acc']\n",
        "  val_acc = config['val_acc']\n",
        "  # plt.plot(epochs, train_acc,label = 'The Performance of Train Attention Type {}'.format(config['attn_type']))\n",
        "  plt.plot(epochs, val_acc,label = 'The Performance of Validation and Attention Type {}'.format(config['attn_type']))\n",
        "\n",
        "\n",
        "plt.legend()\n",
        "plt.show()"
      ],
      "execution_count": 0,
      "outputs": [
        {
          "output_type": "display_data",
          "data": {
            "image/png": "[encoded data removed]",
            "text/plain": [
              "<Figure size 432x288 with 1 Axes>"
            ]
          },
          "metadata": {
            "tags": [],
            "needs_background": "light"
          }
        }
      ]
    },
    {
      "cell_type": "markdown",
      "metadata": {
        "id": "08UTQ9qNA7wl",
        "colab_type": "text"
      },
      "source": [
        "### Model Training"
      ]
    },
    {
      "cell_type": "code",
      "metadata": {
        "id": "-L102UkTKUv6",
        "colab_type": "code",
        "outputId": "812f9a92-200b-426b-a287-734008ea994d",
        "colab": {
          "base_uri": "https://localhost:8080/",
          "height": 377
        }
      },
      "source": [
        "import datetime\n",
        "\n",
        "configs = [\n",
        "    {\n",
        "        'nlayer':1,\n",
        "        'attn_type':'Dot',\n",
        "        'train_losses':[],\n",
        "        'train_acc':[],     \n",
        "    }\n",
        "]\n",
        "\n",
        "for config in configs:\n",
        "\n",
        "  model = BiLSTM_Attn(len(word_to_ix), EMBEDDING_DIM, tag_to_ix, HIDDEN_DIM, config['nlayer'], config['attn_type']).to(device)\n",
        "  optimizer = optim.SGD(model.parameters(), lr=0.01, weight_decay=1e-4)\n",
        "  \n",
        "  for epoch in range(20):  \n",
        "      time1 = datetime.datetime.now()\n",
        "      train_loss = 0\n",
        "\n",
        "      model.train()\n",
        "\n",
        "      for i, idxs in enumerate(train_input_index):\n",
        "          model.zero_grad()\n",
        "\n",
        "          sentence_in = torch.tensor(idxs, dtype=torch.long).to(device)\n",
        "          tfidfs = torch.tensor(tf_idf_train[i], dtype=torch.float).to(device)\n",
        "          pos_tags = torch.tensor(tagger_train[i], dtype=torch.float).to(device)\n",
        "          targets = torch.tensor(train_output_index[i], dtype=torch.long).to(device)\n",
        "\n",
        "          loss = model.neg_log_likelihood(sentence_in, tfidfs, pos_tags, targets)\n",
        "\n",
        "          loss.backward()\n",
        "          optimizer.step()\n",
        "          \n",
        "          train_loss+=loss.item()\n",
        "      config['train_losses'].append(train_loss)\n",
        "\n",
        "      model.eval()\n",
        "      val_acc = cal_acc(model, val_input_index, tf_idf_val, tagger_val, val_output_index)\n",
        "\n",
        "      config['train_acc'].append(train_acc)\n",
        "\n",
        "      time2 = datetime.datetime.now()\n",
        "\n",
        "      print(\"Epoch:%d, Total loss: %.2f, Val acc: %.4f, time: %.2fs\" %(epoch+1, train_loss, val_acc, (time2-time1).total_seconds()))"
      ],
      "execution_count": 0,
      "outputs": [
        {
          "output_type": "stream",
          "text": [
            "Epoch:1, Total loss: 16308.99, Val acc: 0.8624, time: 145.99s\n",
            "Epoch:2, Total loss: 10658.80, Val acc: 0.8704, time: 144.56s\n",
            "Epoch:3, Total loss: 9136.83, Val acc: 0.8781, time: 143.97s\n",
            "Epoch:4, Total loss: 8012.14, Val acc: 0.8974, time: 144.70s\n",
            "Epoch:5, Total loss: 6844.44, Val acc: 0.9125, time: 144.10s\n",
            "Epoch:6, Total loss: 5731.96, Val acc: 0.9220, time: 144.39s\n",
            "Epoch:7, Total loss: 4897.40, Val acc: 0.9263, time: 144.30s\n",
            "Epoch:8, Total loss: 4240.94, Val acc: 0.9273, time: 146.84s\n",
            "Epoch:9, Total loss: 3731.01, Val acc: 0.9288, time: 148.71s\n",
            "Epoch:10, Total loss: 3315.41, Val acc: 0.9316, time: 145.33s\n",
            "Epoch:11, Total loss: 2924.64, Val acc: 0.9336, time: 144.26s\n",
            "Epoch:12, Total loss: 2588.24, Val acc: 0.9342, time: 144.12s\n",
            "Epoch:13, Total loss: 2302.33, Val acc: 0.9353, time: 144.61s\n",
            "Epoch:14, Total loss: 2077.02, Val acc: 0.9341, time: 145.15s\n",
            "Epoch:15, Total loss: 1880.78, Val acc: 0.9355, time: 147.63s\n",
            "Epoch:16, Total loss: 1683.06, Val acc: 0.9370, time: 151.09s\n",
            "Epoch:17, Total loss: 1519.89, Val acc: 0.9387, time: 149.67s\n",
            "Epoch:18, Total loss: 1408.16, Val acc: 0.9366, time: 145.02s\n",
            "Epoch:19, Total loss: 1254.53, Val acc: 0.9398, time: 144.90s\n",
            "Epoch:20, Total loss: 1134.09, Val acc: 0.9374, time: 144.22s\n"
          ],
          "name": "stdout"
        }
      ]
    },
    {
      "cell_type": "markdown",
      "metadata": {
        "id": "aLaMPRsdBALo",
        "colab_type": "text"
      },
      "source": [
        "### Final Model Evaluation"
      ]
    },
    {
      "cell_type": "code",
      "metadata": {
        "id": "1wPcuws_-DMK",
        "colab_type": "code",
        "outputId": "73b0d863-9d57-4a6c-f90b-7ba12d00bd29",
        "colab": {
          "base_uri": "https://localhost:8080/",
          "height": 233
        }
      },
      "source": [
        "from sklearn.metrics import classification_report\n",
        "val_tags_pred=[]\n",
        "total_tags=[] \n",
        "for line in val_output_index:\n",
        "    total_tags += line\n",
        "\n",
        "for i, idxs in enumerate(val_input_index):\n",
        "    sentence_in=torch.tensor(idxs,dtype=torch.long).to(device)\n",
        "    tfidfs=torch.tensor(tf_idf_val[i],dtype=torch.float).to(device)\n",
        "    pos_tags=torch.tensor(tagger_val[i],dtype=torch.float).to(device)\n",
        "    \n",
        "    tags_index=model.forward(sentence_in,tfidfs,pos_tags)\n",
        "    val_tags_pred+= tags_index\n",
        "\n",
        "print(classification_report(total_tags,val_tags_pred))"
      ],
      "execution_count": 0,
      "outputs": [
        {
          "output_type": "stream",
          "text": [
            "              precision    recall  f1-score   support\n",
            "\n",
            "           2       0.97      0.99      0.98      5790\n",
            "           3       0.59      0.49      0.54       285\n",
            "           4       0.61      0.65      0.63       187\n",
            "           5       0.97      0.83      0.89       875\n",
            "           6       0.80      0.89      0.84       419\n",
            "\n",
            "    accuracy                           0.94      7556\n",
            "   macro avg       0.79      0.77      0.78      7556\n",
            "weighted avg       0.94      0.94      0.94      7556\n",
            "\n"
          ],
          "name": "stdout"
        }
      ]
    },
    {
      "cell_type": "markdown",
      "metadata": {
        "id": "sGYcHvuxBGYy",
        "colab_type": "text"
      },
      "source": [
        "### Submission Generating"
      ]
    },
    {
      "cell_type": "code",
      "metadata": {
        "id": "fVHuf96gyIFZ",
        "colab_type": "code",
        "outputId": "e58ac376-1113-4165-bf7b-9bb839d6e65d",
        "colab": {
          "base_uri": "https://localhost:8080/",
          "height": 269
        }
      },
      "source": [
        "from pandas.core.frame import DataFrame\n",
        "\n",
        "model.eval()\n",
        "\n",
        "ix_to_tag={tag_to_ix[tag]:tag for tag in tag_to_ix.keys()}\n",
        "tags_test =[]\n",
        "for i, idxs in enumerate(test_input_index):\n",
        "    sentence_in = torch.tensor(idxs, dtype=torch.long).to(device)\n",
        "    tfidfs=torch.tensor(tf_idf_test[i],dtype=torch.float).to(device)\n",
        "    pos_tags=torch.tensor(tagger_test[i],dtype=torch.float).to(device)\n",
        "\n",
        "    tags_index = model.forward(sentence_in,tfidfs,pos_tags)\n",
        "    tags_test += [ix_to_tag[ix] for ix in tags_index]\n",
        "\n",
        "id_list = [i for i in range(len(tags_test))]\n",
        "dic_test = {\n",
        "    \"Id\":id_list,\n",
        "    \"Predicted\":tags_test\n",
        "}\n",
        "\n",
        "data_output = DataFrame(dic_test)\n",
        "print(data_output)\n",
        "data_output.to_csv('pred.csv',index =False)"
      ],
      "execution_count": 0,
      "outputs": [
        {
          "output_type": "stream",
          "text": [
            "          Id Predicted\n",
            "0          0         O\n",
            "1          1         O\n",
            "2          2         O\n",
            "3          3     I-LOC\n",
            "4          4         O\n",
            "...      ...       ...\n",
            "46661  46661         O\n",
            "46662  46662         O\n",
            "46663  46663         O\n",
            "46664  46664     I-PER\n",
            "46665  46665         O\n",
            "\n",
            "[46666 rows x 2 columns]\n"
          ],
          "name": "stdout"
        }
      ]
    },
    {
      "cell_type": "markdown",
      "metadata": {
        "id": "9H73ORCszXMp",
        "colab_type": "text"
      },
      "source": [
        "## Testing and Leaderboard"
      ]
    },
    {
      "cell_type": "markdown",
      "metadata": {
        "id": "jJiOckOAzecR",
        "colab_type": "text"
      },
      "source": [
        "### Performance Comparison"
      ]
    },
    {
      "cell_type": "markdown",
      "metadata": {
        "id": "SSSynOuE0nYT",
        "colab_type": "text"
      },
      "source": [
        "Models|F1\n",
        "---|---\n",
        "Group 36|98.619\n",
        "Baseline Model|93.022\n",
        "Ours|92.302"
      ]
    }
  ]
}